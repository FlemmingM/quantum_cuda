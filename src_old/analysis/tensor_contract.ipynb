{
 "cells": [
  {
   "cell_type": "code",
   "execution_count": 2,
   "metadata": {},
   "outputs": [],
   "source": [
    "import numpy as np"
   ]
  },
  {
   "cell_type": "code",
   "execution_count": 44,
   "metadata": {},
   "outputs": [
    {
     "data": {
      "text/plain": [
       "34.359738368"
      ]
     },
     "execution_count": 44,
     "metadata": {},
     "output_type": "execute_result"
    }
   ],
   "source": [
    "n = 30\n",
    "res = ((2 ** n) * 32)\n",
    "res / (1000**3)"
   ]
  },
  {
   "cell_type": "code",
   "execution_count": 22,
   "metadata": {},
   "outputs": [
    {
     "data": {
      "text/plain": [
       "274.877906944"
      ]
     },
     "execution_count": 22,
     "metadata": {},
     "output_type": "execute_result"
    }
   ],
   "source": []
  },
  {
   "cell_type": "code",
   "execution_count": 48,
   "metadata": {},
   "outputs": [],
   "source": [
    "def zero_out_array(arr):\n",
    "    arr.fill(0)\n",
    "\n",
    "def contract_tensor(state, gate, qubit, shape):\n",
    "    n = len(shape)\n",
    "    total_elements = 2 ** n\n",
    "    new_state = np.zeros(total_elements, dtype=complex)\n",
    "\n",
    "    # Iterate over all possible indices of the state tensor\n",
    "    for idx in range(total_elements):\n",
    "        # print(f'idx {idx} #########################')\n",
    "        new_idx = np.zeros(n, dtype=int)\n",
    "        old_idx = np.zeros(n, dtype=int)\n",
    "        temp = idx\n",
    "\n",
    "        # Compute the multi-dimensional index\n",
    "        for i in range(n-1, -1, -1):\n",
    "            # print(f'i {i}')\n",
    "            new_idx[i] = temp % shape[i]\n",
    "            temp //= shape[i]\n",
    "            # print(f'temp {temp}')\n",
    "        # print(f'new_idx {new_idx} +++++++++++')\n",
    "\n",
    "        # Perform the tensor contraction for the specified qubit\n",
    "        # TODO: make the algorithm more generic to work with all dimensions (currently it is 2)\n",
    "        for j in range(2):\n",
    "            # print(f'j {j}')\n",
    "            # Copy new_idx to old_idx\n",
    "            old_idx[:] = new_idx[:]\n",
    "            old_idx[qubit] = j\n",
    "\n",
    "            # Compute the linear index for old_idx\n",
    "            old_linear_idx = 0\n",
    "            factor = 1\n",
    "            for i in range(n-1, -1, -1):\n",
    "                # print(f'i2 {i}')\n",
    "                old_linear_idx += old_idx[i] * factor\n",
    "                factor *= shape[i]\n",
    "            # print(f'old_linear_idx {old_linear_idx} +++++++++++')\n",
    "\n",
    "            new_state[idx] += gate[new_idx[qubit], j] * state[old_linear_idx]\n",
    "            # print(f'new_state {new_state}')\n",
    "\n",
    "    return new_state\n"
   ]
  },
  {
   "cell_type": "code",
   "execution_count": null,
   "metadata": {},
   "outputs": [
    {
     "name": "stdout",
     "output_type": "stream",
     "text": [
      "[1 0 0 0 0 0 0 0]\n",
      "[0.70710678+0.j 0.        +0.j 0.        +0.j 0.        +0.j\n",
      " 0.70710678+0.j 0.        +0.j 0.        +0.j 0.        +0.j]\n"
     ]
    },
    {
     "ename": "KeyboardInterrupt",
     "evalue": "",
     "output_type": "error",
     "traceback": [
      "\u001b[0;31m---------------------------------------------------------------------------\u001b[0m",
      "\u001b[0;31mKeyboardInterrupt\u001b[0m                         Traceback (most recent call last)",
      "Cell \u001b[0;32mIn[50], line 12\u001b[0m\n\u001b[1;32m      9\u001b[0m H \u001b[38;5;241m=\u001b[39m np\u001b[38;5;241m.\u001b[39marray([[\u001b[38;5;241m1\u001b[39m, \u001b[38;5;241m1\u001b[39m], [\u001b[38;5;241m1\u001b[39m, \u001b[38;5;241m-\u001b[39m\u001b[38;5;241m1\u001b[39m]], dtype\u001b[38;5;241m=\u001b[39m\u001b[38;5;28mcomplex\u001b[39m) \u001b[38;5;241m/\u001b[39m np\u001b[38;5;241m.\u001b[39msqrt(\u001b[38;5;241m2\u001b[39m)\n\u001b[1;32m     11\u001b[0m \u001b[38;5;66;03m# Define the state vector\u001b[39;00m\n\u001b[0;32m---> 12\u001b[0m state \u001b[38;5;241m=\u001b[39m np\u001b[38;5;241m.\u001b[39marray(\u001b[43m[\u001b[49m\u001b[38;5;241;43m1\u001b[39;49m\u001b[43m]\u001b[49m\u001b[43m \u001b[49m\u001b[38;5;241;43m+\u001b[39;49m\u001b[43m \u001b[49m\u001b[43m[\u001b[49m\u001b[38;5;241;43m0\u001b[39;49m\u001b[43m]\u001b[49m\u001b[38;5;241;43m*\u001b[39;49m\u001b[43m(\u001b[49m\u001b[43mN\u001b[49m\u001b[38;5;241;43m-\u001b[39;49m\u001b[38;5;241;43m1\u001b[39;49m\u001b[43m)\u001b[49m)\n\u001b[1;32m     14\u001b[0m \u001b[38;5;28mprint\u001b[39m(state)\n\u001b[1;32m     15\u001b[0m new_state \u001b[38;5;241m=\u001b[39m contract_tensor(state, H, \u001b[38;5;241m0\u001b[39m, shape)\n",
      "\u001b[0;31mKeyboardInterrupt\u001b[0m: "
     ]
    }
   ],
   "source": [
    "q0 = np.array([1, 0])\n",
    "q1 = np.array([1, 0])\n",
    "\n",
    "n = 30\n",
    "N = 2**n\n",
    "shape = [2] * n\n",
    "\n",
    "# Define the Hadamard gate\n",
    "H = np.array([[1, 1], [1, -1]], dtype=complex) / np.sqrt(2)\n",
    "\n",
    "# Define the state vector\n",
    "state = np.array([1] + [0]*(N-1))\n",
    "\n",
    "print(state)\n",
    "new_state = contract_tensor(state, H, 0, shape)\n",
    "print(new_state)\n",
    "\n",
    "# new_state = contract_tensor(new_state, H, 1, shape)\n",
    "# print(new_state)\n",
    "\n",
    "# new_state = contract_tensor(new_state, H, 2, shape)\n",
    "# print(new_state)"
   ]
  },
  {
   "cell_type": "code",
   "execution_count": 4,
   "metadata": {},
   "outputs": [
    {
     "data": {
      "text/plain": [
       "0.03125"
      ]
     },
     "execution_count": 4,
     "metadata": {},
     "output_type": "execute_result"
    }
   ],
   "source": [
    "n = 10\n",
    "N = 2**n\n",
    "# state = np.array([1] + [0]*(N-1))\n",
    "\n",
    "1 / np.sqrt(N)\n"
   ]
  },
  {
   "cell_type": "code",
   "execution_count": 15,
   "metadata": {},
   "outputs": [
    {
     "name": "stdout",
     "output_type": "stream",
     "text": [
      "Resulting tensor shape: (3, 4, 2, 6)\n"
     ]
    }
   ],
   "source": [
    "\n",
    "def tensor_contract(tensor1, tensor2, axes):\n",
    "    \"\"\"\n",
    "    Perform tensor contraction between two tensors along specified axes.\n",
    "\n",
    "    Args:\n",
    "        tensor1: The first tensor.\n",
    "        tensor2: The second tensor.\n",
    "        axes: A tuple of two lists, specifying the axes to contract over.\n",
    "              axes[0] are the axes of tensor1, and axes[1] are the axes of tensor2.\n",
    "\n",
    "    Returns:\n",
    "        A new tensor resulting from the contraction.\n",
    "    \"\"\"\n",
    "    # Validate input\n",
    "    if len(axes[0]) != len(axes[1]):\n",
    "        raise ValueError(\"Axes lengths must be the same\")\n",
    "\n",
    "    # Move the specified axes to the end for tensor1 and the start for tensor2\n",
    "    tensor1 = np.moveaxis(tensor1, axes[0], range(-len(axes[0]), 0))\n",
    "    tensor2 = np.moveaxis(tensor2, axes[1], range(len(axes[1])))\n",
    "\n",
    "    # Reshape tensors for matrix multiplication\n",
    "    tensor1_shape = tensor1.shape\n",
    "    tensor2_shape = tensor2.shape\n",
    "    tensor1_reshaped = tensor1.reshape(-1, np.prod(tensor1_shape[-len(axes[0]):]))\n",
    "    tensor2_reshaped = tensor2.reshape(np.prod(tensor2_shape[:len(axes[1])]), -1)\n",
    "\n",
    "    # Perform matrix multiplication\n",
    "    result = np.dot(tensor1_reshaped, tensor2_reshaped)\n",
    "\n",
    "    # Reshape the result to the proper shape\n",
    "    result_shape = tensor1_shape[:-len(axes[0])] + tensor2_shape[len(axes[1]):]\n",
    "    result = result.reshape(result_shape)\n",
    "\n",
    "    return result\n",
    "\n",
    "# Example usage\n",
    "tensor1 = np.random.rand(3, 4, 5)\n",
    "tensor2 = np.random.rand(5, 2, 6)\n",
    "axes = ([2], [0])  # Contract over the third axis of tensor1 and the first axis of tensor2\n",
    "\n",
    "result = tensor_contract(tensor1, tensor2, axes)\n",
    "print(\"Resulting tensor shape:\", result.shape)\n"
   ]
  },
  {
   "cell_type": "code",
   "execution_count": 68,
   "metadata": {},
   "outputs": [],
   "source": [
    "def apply_hadamard_to_single_qubit(state, H, qubit):\n",
    "    state_shape = state.shape\n",
    "\n",
    "    # Initialize a new state tensor to hold the result\n",
    "    new_shape = list(state_shape)\n",
    "    new_state = np.zeros(new_shape, dtype=complex)\n",
    "\n",
    "    # Iterate over all possible indices of the state tensor\n",
    "    for idx in np.ndindex(state_shape):\n",
    "        print('idx: ', idx)\n",
    "        new_idx = list(idx)\n",
    "        print('new_idx ', new_idx)\n",
    "        # Perform the tensor contraction manually for the specified qubit\n",
    "        new_value = 0\n",
    "        for j in range(2):\n",
    "            old_idx = list(idx)\n",
    "            old_idx[qubit] = j\n",
    "            new_value += H[new_idx[qubit], j] * state[tuple(old_idx)]\n",
    "        new_state[tuple(new_idx)] = new_value\n",
    "\n",
    "    return new_state\n",
    "\n",
    "\n",
    "\n",
    "def contract_tensor(state, gate, qubit):\n",
    "    state_shape = state.shape\n",
    "\n",
    "    # Initialize a new state tensor to hold the result\n",
    "    new_shape = list(state_shape)\n",
    "    new_state = np.zeros(new_shape, dtype=complex)\n",
    "\n",
    "    # Iterate over all possible indices of the state tensor\n",
    "    for idx in np.ndindex(state_shape):\n",
    "        # print('idx: ', idx)\n",
    "        new_idx = list(idx)\n",
    "        # print('new_idx ', new_idx)\n",
    "        # Perform the tensor contraction manually for the specified qubit\n",
    "        for j in range(2):\n",
    "            old_idx = list(idx)\n",
    "            old_idx[qubit] = j\n",
    "            new_state[tuple(new_idx)] += gate[new_idx[qubit], j] * state[tuple(old_idx)]\n",
    "    return new_state"
   ]
  },
  {
   "cell_type": "code",
   "execution_count": 69,
   "metadata": {},
   "outputs": [
    {
     "name": "stdout",
     "output_type": "stream",
     "text": [
      "[[0.70710678+0.j 0.        +0.j]\n",
      " [0.70710678+0.j 0.        +0.j]]\n"
     ]
    },
    {
     "data": {
      "text/plain": [
       "array([[0.5+0.j, 0.5+0.j],\n",
       "       [0.5+0.j, 0.5+0.j]])"
      ]
     },
     "execution_count": 69,
     "metadata": {},
     "output_type": "execute_result"
    }
   ],
   "source": [
    "q0 = np.array([1, 0])\n",
    "q1 = np.array([1, 0])\n",
    "\n",
    "# Define the Hadamard gate\n",
    "H = np.array([[1, 1], [1, -1]], dtype=complex) / np.sqrt(2)\n",
    "\n",
    "# Define the state vector\n",
    "state = np.outer(q0, q1).reshape([2]* 2)\n",
    "\n",
    "s = contract_tensor(state, H, 0)\n",
    "print(s)\n",
    "s = contract_tensor(s, H, 1)\n",
    "s"
   ]
  },
  {
   "cell_type": "code",
   "execution_count": 66,
   "metadata": {},
   "outputs": [
    {
     "name": "stdout",
     "output_type": "stream",
     "text": [
      "[[0.70710678+0.j 0.        +0.j]\n",
      " [0.70710678+0.j 0.        +0.j]]\n"
     ]
    },
    {
     "data": {
      "text/plain": [
       "array([[0.5+0.j, 0.5+0.j],\n",
       "       [0.5+0.j, 0.5+0.j]])"
      ]
     },
     "execution_count": 66,
     "metadata": {},
     "output_type": "execute_result"
    }
   ],
   "source": []
  },
  {
   "cell_type": "code",
   "execution_count": 54,
   "metadata": {},
   "outputs": [
    {
     "name": "stdout",
     "output_type": "stream",
     "text": [
      "[[0.70710678+0.j 0.70710678+0.j]\n",
      " [0.        +0.j 0.        +0.j]]\n"
     ]
    },
    {
     "data": {
      "text/plain": [
       "array([[ 1.00000000e+00+0.j, -2.23711432e-17+0.j],\n",
       "       [ 0.00000000e+00+0.j,  0.00000000e+00+0.j]])"
      ]
     },
     "execution_count": 54,
     "metadata": {},
     "output_type": "execute_result"
    }
   ],
   "source": [
    "s = tensor_contract(state, H, ([0], [0]))\n",
    "print(s)\n",
    "s = tensor_contract(s, H, ([0], [1]))\n",
    "s"
   ]
  },
  {
   "cell_type": "code",
   "execution_count": 59,
   "metadata": {},
   "outputs": [
    {
     "name": "stdout",
     "output_type": "stream",
     "text": [
      "(0,)\n",
      "(0, 0)\n",
      "(0, 1)\n",
      "(1, 0)\n",
      "(1, 1)\n",
      "(1,)\n",
      "(0, 0)\n",
      "(0, 1)\n",
      "(1, 0)\n",
      "(1, 1)\n",
      "(0,)\n",
      "(0, 0)\n",
      "(0, 1)\n",
      "(1, 0)\n",
      "(1, 1)\n",
      "(1,)\n",
      "(0, 0)\n",
      "(0, 1)\n",
      "(1, 0)\n",
      "(1, 1)\n",
      "Resulting state vector after applying H to both qubits:\n",
      "[0.5+0.j 0. +0.j 0.5+0.j 0. +0.j 0.5+0.j 0. +0.j 0.5+0.j 0. +0.j]\n"
     ]
    }
   ],
   "source": [
    "import numpy as np\n",
    "\n",
    "def tensor_contract(tensor1, tensor2, axes):\n",
    "    \"\"\"\n",
    "    Perform tensor contraction between two tensors along specified axes.\n",
    "\n",
    "    Args:\n",
    "        tensor1: The first tensor.\n",
    "        tensor2: The second tensor.\n",
    "        axes: A tuple of two lists, specifying the axes to contract over.\n",
    "              axes[0] are the axes of tensor1, and axes[1] are the axes of tensor2.\n",
    "\n",
    "    Returns:\n",
    "        A new tensor resulting from the contraction.\n",
    "    \"\"\"\n",
    "    # Ensure axes lists have the same length\n",
    "    if len(axes[0]) != len(axes[1]):\n",
    "        raise ValueError(\"Axes lengths must be the same\")\n",
    "\n",
    "    # Calculate the shape of the resulting tensor\n",
    "    new_shape = list(tensor1.shape[:axes[0][0]]) + list(tensor1.shape[axes[0][0]+1:]) + \\\n",
    "                list(tensor2.shape[:axes[1][0]]) + list(tensor2.shape[axes[1][0]+1:])\n",
    "\n",
    "    # Initialize the resulting tensor\n",
    "    result = np.zeros(new_shape, dtype=complex)\n",
    "\n",
    "    # Iterate over all indices of the non-contracted dimensions\n",
    "    for idx1 in np.ndindex(*tensor1.shape[:axes[0][0]], *tensor1.shape[axes[0][0]+1:]):\n",
    "        print(idx1)\n",
    "        for idx2 in np.ndindex(*tensor2.shape[:axes[1][0]], *tensor2.shape[axes[1][0]+1:]):\n",
    "            print(idx2)\n",
    "            contracted_sum = 0\n",
    "            for k in range(tensor1.shape[axes[0][0]]):\n",
    "                index1 = idx1[:axes[0][0]] + (k,) + idx1[axes[0][0]:]\n",
    "                index2 = idx2[:axes[1][0]] + (k,) + idx2[axes[1][0]:]\n",
    "                contracted_sum += tensor1[index1] * tensor2[index2]\n",
    "            result[idx1 + idx2] = contracted_sum\n",
    "\n",
    "    return result\n",
    "\n",
    "# Define the initial qubit states\n",
    "q0 = np.array([1, 0])\n",
    "q1 = np.array([1, 0])\n",
    "\n",
    "# Define the Hadamard gate\n",
    "H = np.array([[1, 1], [1, -1]], dtype=complex) / np.sqrt(2)\n",
    "\n",
    "# Define the state vector for 2 qubits (|00>)\n",
    "initial_state = np.kron(q0, q1).reshape(2, 2)\n",
    "initial_state = np.kron(np.kron(q0, q1), q0).reshape(2, 2, 2)\n",
    "\n",
    "\n",
    "# Apply the Hadamard gate to the first qubit\n",
    "state_after_first_H = tensor_contract(H, initial_state, ([1], [0]))\n",
    "\n",
    "# Apply the Hadamard gate to the second qubit\n",
    "state_after_second_H = tensor_contract(H, state_after_first_H, ([1], [1]))\n",
    "\n",
    "# Reshape the result to a vector\n",
    "final_state = state_after_second_H.reshape(8)\n",
    "\n",
    "print(\"Resulting state vector after applying H to both qubits:\")\n",
    "print(final_state)\n"
   ]
  },
  {
   "cell_type": "code",
   "execution_count": null,
   "metadata": {},
   "outputs": [],
   "source": []
  }
 ],
 "metadata": {
  "kernelspec": {
   "display_name": "graph",
   "language": "python",
   "name": "python3"
  },
  "language_info": {
   "codemirror_mode": {
    "name": "ipython",
    "version": 3
   },
   "file_extension": ".py",
   "mimetype": "text/x-python",
   "name": "python",
   "nbconvert_exporter": "python",
   "pygments_lexer": "ipython3",
   "version": "3.8.13"
  }
 },
 "nbformat": 4,
 "nbformat_minor": 2
}
