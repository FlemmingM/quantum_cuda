{
 "cells": [
  {
   "cell_type": "code",
   "execution_count": 4,
   "metadata": {},
   "outputs": [],
   "source": [
    "import numpy as np\n",
    "from qiskit import Aer, execute\n",
    "from qiskit.circuit import QuantumCircuit\n",
    "from qiskit.visualization import plot_bloch_multivector\n",
    "from qiskit.qasm import pi\n",
    "import matplotlib.pyplot as plt"
   ]
  },
  {
   "cell_type": "code",
   "execution_count": 8,
   "metadata": {},
   "outputs": [],
   "source": [
    "qc = QuantumCircuit(3, 3)\n",
    "qc.h(0)\n",
    "qc.h(1)\n",
    "qc.h(2)\n",
    "# qc.save_statevector(label='my_sv')\n",
    "qc.measure(0, 0)\n",
    "qc.measure(1, 1)\n",
    "qc.measure(2, 2)\n",
    "\n",
    "# qc.save_statevector(label='my_sv')\n",
    "fig = qc.draw('mpl')\n",
    "# qc = QuantumCircuit(1, 1)\n",
    "# qc.h(0)\n",
    "# qc.h(0)\n",
    "# qc.save_statevector(label='my_sv')\n",
    "# qc.measure(0, 0)\n",
    "\n",
    "\n",
    "# qc.draw('mpl')\n",
    "fig.savefig('../img/superpos_3q.jpg')"
   ]
  },
  {
   "cell_type": "code",
   "execution_count": 85,
   "metadata": {},
   "outputs": [
    {
     "name": "stdout",
     "output_type": "stream",
     "text": [
      "Statevector([0.+0.j, 0.+0.j, 1.+0.j, 0.+0.j],\n",
      "            dims=(2, 2))\n"
     ]
    }
   ],
   "source": [
    "backend = Aer.get_backend('statevector_simulator')\n",
    "job = execute(qc, backend, shots=1000)\n",
    "\n",
    "# Grab the results from the job.\n",
    "result = job.result()\n",
    "state_vector = result.get_statevector(qc)\n",
    "state_vector"
   ]
  },
  {
   "cell_type": "code",
   "execution_count": 86,
   "metadata": {},
   "outputs": [
    {
     "data": {
      "text/plain": [
       "{'11': 492, '10': 508}"
      ]
     },
     "execution_count": 86,
     "metadata": {},
     "output_type": "execute_result"
    }
   ],
   "source": [
    "result.get_counts()"
   ]
  },
  {
   "cell_type": "code",
   "execution_count": 49,
   "metadata": {},
   "outputs": [
    {
     "data": {
      "text/plain": [
       "array([0, 1, 0, 0])"
      ]
     },
     "execution_count": 49,
     "metadata": {},
     "output_type": "execute_result"
    }
   ],
   "source": [
    "a = np.array([1, 0])\n",
    "b  =np.array([0, 1])\n",
    "\n",
    "np.kron(a,b)#.reshape(2,2)"
   ]
  }
 ],
 "metadata": {
  "kernelspec": {
   "display_name": "graph",
   "language": "python",
   "name": "python3"
  },
  "language_info": {
   "codemirror_mode": {
    "name": "ipython",
    "version": 3
   },
   "file_extension": ".py",
   "mimetype": "text/x-python",
   "name": "python",
   "nbconvert_exporter": "python",
   "pygments_lexer": "ipython3",
   "version": "3.10.14"
  }
 },
 "nbformat": 4,
 "nbformat_minor": 2
}
