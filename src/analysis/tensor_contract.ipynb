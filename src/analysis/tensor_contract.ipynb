{
 "cells": [
  {
   "cell_type": "code",
   "execution_count": 1,
   "metadata": {},
   "outputs": [],
   "source": [
    "import numpy as np"
   ]
  },
  {
   "cell_type": "code",
   "execution_count": 15,
   "metadata": {},
   "outputs": [
    {
     "name": "stdout",
     "output_type": "stream",
     "text": [
      "Resulting tensor shape: (3, 4, 2, 6)\n"
     ]
    }
   ],
   "source": [
    "\n",
    "def tensor_contract(tensor1, tensor2, axes):\n",
    "    \"\"\"\n",
    "    Perform tensor contraction between two tensors along specified axes.\n",
    "\n",
    "    Args:\n",
    "        tensor1: The first tensor.\n",
    "        tensor2: The second tensor.\n",
    "        axes: A tuple of two lists, specifying the axes to contract over.\n",
    "              axes[0] are the axes of tensor1, and axes[1] are the axes of tensor2.\n",
    "\n",
    "    Returns:\n",
    "        A new tensor resulting from the contraction.\n",
    "    \"\"\"\n",
    "    # Validate input\n",
    "    if len(axes[0]) != len(axes[1]):\n",
    "        raise ValueError(\"Axes lengths must be the same\")\n",
    "\n",
    "    # Move the specified axes to the end for tensor1 and the start for tensor2\n",
    "    tensor1 = np.moveaxis(tensor1, axes[0], range(-len(axes[0]), 0))\n",
    "    tensor2 = np.moveaxis(tensor2, axes[1], range(len(axes[1])))\n",
    "\n",
    "    # Reshape tensors for matrix multiplication\n",
    "    tensor1_shape = tensor1.shape\n",
    "    tensor2_shape = tensor2.shape\n",
    "    tensor1_reshaped = tensor1.reshape(-1, np.prod(tensor1_shape[-len(axes[0]):]))\n",
    "    tensor2_reshaped = tensor2.reshape(np.prod(tensor2_shape[:len(axes[1])]), -1)\n",
    "\n",
    "    # Perform matrix multiplication\n",
    "    result = np.dot(tensor1_reshaped, tensor2_reshaped)\n",
    "\n",
    "    # Reshape the result to the proper shape\n",
    "    result_shape = tensor1_shape[:-len(axes[0])] + tensor2_shape[len(axes[1]):]\n",
    "    result = result.reshape(result_shape)\n",
    "\n",
    "    return result\n",
    "\n",
    "# Example usage\n",
    "tensor1 = np.random.rand(3, 4, 5)\n",
    "tensor2 = np.random.rand(5, 2, 6)\n",
    "axes = ([2], [0])  # Contract over the third axis of tensor1 and the first axis of tensor2\n",
    "\n",
    "result = tensor_contract(tensor1, tensor2, axes)\n",
    "print(\"Resulting tensor shape:\", result.shape)\n"
   ]
  },
  {
   "cell_type": "code",
   "execution_count": 68,
   "metadata": {},
   "outputs": [],
   "source": [
    "def apply_hadamard_to_single_qubit(state, H, qubit):\n",
    "    state_shape = state.shape\n",
    "\n",
    "    # Initialize a new state tensor to hold the result\n",
    "    new_shape = list(state_shape)\n",
    "    new_state = np.zeros(new_shape, dtype=complex)\n",
    "\n",
    "    # Iterate over all possible indices of the state tensor\n",
    "    for idx in np.ndindex(state_shape):\n",
    "        print('idx: ', idx)\n",
    "        new_idx = list(idx)\n",
    "        print('new_idx ', new_idx)\n",
    "        # Perform the tensor contraction manually for the specified qubit\n",
    "        new_value = 0\n",
    "        for j in range(2):\n",
    "            old_idx = list(idx)\n",
    "            old_idx[qubit] = j\n",
    "            new_value += H[new_idx[qubit], j] * state[tuple(old_idx)]\n",
    "        new_state[tuple(new_idx)] = new_value\n",
    "\n",
    "    return new_state\n",
    "\n",
    "\n",
    "\n",
    "def contract_tensor(state, gate, qubit):\n",
    "    state_shape = state.shape\n",
    "\n",
    "    # Initialize a new state tensor to hold the result\n",
    "    new_shape = list(state_shape)\n",
    "    new_state = np.zeros(new_shape, dtype=complex)\n",
    "\n",
    "    # Iterate over all possible indices of the state tensor\n",
    "    for idx in np.ndindex(state_shape):\n",
    "        # print('idx: ', idx)\n",
    "        new_idx = list(idx)\n",
    "        # print('new_idx ', new_idx)\n",
    "        # Perform the tensor contraction manually for the specified qubit\n",
    "        for j in range(2):\n",
    "            old_idx = list(idx)\n",
    "            old_idx[qubit] = j\n",
    "            new_state[tuple(new_idx)] += gate[new_idx[qubit], j] * state[tuple(old_idx)]\n",
    "    return new_state"
   ]
  },
  {
   "cell_type": "code",
   "execution_count": 69,
   "metadata": {},
   "outputs": [
    {
     "name": "stdout",
     "output_type": "stream",
     "text": [
      "[[0.70710678+0.j 0.        +0.j]\n",
      " [0.70710678+0.j 0.        +0.j]]\n"
     ]
    },
    {
     "data": {
      "text/plain": [
       "array([[0.5+0.j, 0.5+0.j],\n",
       "       [0.5+0.j, 0.5+0.j]])"
      ]
     },
     "execution_count": 69,
     "metadata": {},
     "output_type": "execute_result"
    }
   ],
   "source": [
    "q0 = np.array([1, 0])\n",
    "q1 = np.array([1, 0])\n",
    "\n",
    "# Define the Hadamard gate\n",
    "H = np.array([[1, 1], [1, -1]], dtype=complex) / np.sqrt(2)\n",
    "\n",
    "# Define the state vector\n",
    "state = np.outer(q0, q1).reshape([2]* 2)\n",
    "\n",
    "s = contract_tensor(state, H, 0)\n",
    "print(s)\n",
    "s = contract_tensor(s, H, 1)\n",
    "s"
   ]
  },
  {
   "cell_type": "code",
   "execution_count": 66,
   "metadata": {},
   "outputs": [
    {
     "name": "stdout",
     "output_type": "stream",
     "text": [
      "[[0.70710678+0.j 0.        +0.j]\n",
      " [0.70710678+0.j 0.        +0.j]]\n"
     ]
    },
    {
     "data": {
      "text/plain": [
       "array([[0.5+0.j, 0.5+0.j],\n",
       "       [0.5+0.j, 0.5+0.j]])"
      ]
     },
     "execution_count": 66,
     "metadata": {},
     "output_type": "execute_result"
    }
   ],
   "source": []
  },
  {
   "cell_type": "code",
   "execution_count": 54,
   "metadata": {},
   "outputs": [
    {
     "name": "stdout",
     "output_type": "stream",
     "text": [
      "[[0.70710678+0.j 0.70710678+0.j]\n",
      " [0.        +0.j 0.        +0.j]]\n"
     ]
    },
    {
     "data": {
      "text/plain": [
       "array([[ 1.00000000e+00+0.j, -2.23711432e-17+0.j],\n",
       "       [ 0.00000000e+00+0.j,  0.00000000e+00+0.j]])"
      ]
     },
     "execution_count": 54,
     "metadata": {},
     "output_type": "execute_result"
    }
   ],
   "source": [
    "s = tensor_contract(state, H, ([0], [0]))\n",
    "print(s)\n",
    "s = tensor_contract(s, H, ([0], [1]))\n",
    "s"
   ]
  },
  {
   "cell_type": "code",
   "execution_count": 59,
   "metadata": {},
   "outputs": [
    {
     "name": "stdout",
     "output_type": "stream",
     "text": [
      "(0,)\n",
      "(0, 0)\n",
      "(0, 1)\n",
      "(1, 0)\n",
      "(1, 1)\n",
      "(1,)\n",
      "(0, 0)\n",
      "(0, 1)\n",
      "(1, 0)\n",
      "(1, 1)\n",
      "(0,)\n",
      "(0, 0)\n",
      "(0, 1)\n",
      "(1, 0)\n",
      "(1, 1)\n",
      "(1,)\n",
      "(0, 0)\n",
      "(0, 1)\n",
      "(1, 0)\n",
      "(1, 1)\n",
      "Resulting state vector after applying H to both qubits:\n",
      "[0.5+0.j 0. +0.j 0.5+0.j 0. +0.j 0.5+0.j 0. +0.j 0.5+0.j 0. +0.j]\n"
     ]
    }
   ],
   "source": [
    "import numpy as np\n",
    "\n",
    "def tensor_contract(tensor1, tensor2, axes):\n",
    "    \"\"\"\n",
    "    Perform tensor contraction between two tensors along specified axes.\n",
    "\n",
    "    Args:\n",
    "        tensor1: The first tensor.\n",
    "        tensor2: The second tensor.\n",
    "        axes: A tuple of two lists, specifying the axes to contract over.\n",
    "              axes[0] are the axes of tensor1, and axes[1] are the axes of tensor2.\n",
    "\n",
    "    Returns:\n",
    "        A new tensor resulting from the contraction.\n",
    "    \"\"\"\n",
    "    # Ensure axes lists have the same length\n",
    "    if len(axes[0]) != len(axes[1]):\n",
    "        raise ValueError(\"Axes lengths must be the same\")\n",
    "\n",
    "    # Calculate the shape of the resulting tensor\n",
    "    new_shape = list(tensor1.shape[:axes[0][0]]) + list(tensor1.shape[axes[0][0]+1:]) + \\\n",
    "                list(tensor2.shape[:axes[1][0]]) + list(tensor2.shape[axes[1][0]+1:])\n",
    "\n",
    "    # Initialize the resulting tensor\n",
    "    result = np.zeros(new_shape, dtype=complex)\n",
    "\n",
    "    # Iterate over all indices of the non-contracted dimensions\n",
    "    for idx1 in np.ndindex(*tensor1.shape[:axes[0][0]], *tensor1.shape[axes[0][0]+1:]):\n",
    "        print(idx1)\n",
    "        for idx2 in np.ndindex(*tensor2.shape[:axes[1][0]], *tensor2.shape[axes[1][0]+1:]):\n",
    "            print(idx2)\n",
    "            contracted_sum = 0\n",
    "            for k in range(tensor1.shape[axes[0][0]]):\n",
    "                index1 = idx1[:axes[0][0]] + (k,) + idx1[axes[0][0]:]\n",
    "                index2 = idx2[:axes[1][0]] + (k,) + idx2[axes[1][0]:]\n",
    "                contracted_sum += tensor1[index1] * tensor2[index2]\n",
    "            result[idx1 + idx2] = contracted_sum\n",
    "\n",
    "    return result\n",
    "\n",
    "# Define the initial qubit states\n",
    "q0 = np.array([1, 0])\n",
    "q1 = np.array([1, 0])\n",
    "\n",
    "# Define the Hadamard gate\n",
    "H = np.array([[1, 1], [1, -1]], dtype=complex) / np.sqrt(2)\n",
    "\n",
    "# Define the state vector for 2 qubits (|00>)\n",
    "initial_state = np.kron(q0, q1).reshape(2, 2)\n",
    "initial_state = np.kron(np.kron(q0, q1), q0).reshape(2, 2, 2)\n",
    "\n",
    "\n",
    "# Apply the Hadamard gate to the first qubit\n",
    "state_after_first_H = tensor_contract(H, initial_state, ([1], [0]))\n",
    "\n",
    "# Apply the Hadamard gate to the second qubit\n",
    "state_after_second_H = tensor_contract(H, state_after_first_H, ([1], [1]))\n",
    "\n",
    "# Reshape the result to a vector\n",
    "final_state = state_after_second_H.reshape(8)\n",
    "\n",
    "print(\"Resulting state vector after applying H to both qubits:\")\n",
    "print(final_state)\n"
   ]
  },
  {
   "cell_type": "code",
   "execution_count": null,
   "metadata": {},
   "outputs": [],
   "source": []
  }
 ],
 "metadata": {
  "kernelspec": {
   "display_name": "graph",
   "language": "python",
   "name": "python3"
  },
  "language_info": {
   "codemirror_mode": {
    "name": "ipython",
    "version": 3
   },
   "file_extension": ".py",
   "mimetype": "text/x-python",
   "name": "python",
   "nbconvert_exporter": "python",
   "pygments_lexer": "ipython3",
   "version": "3.8.13"
  }
 },
 "nbformat": 4,
 "nbformat_minor": 2
}
