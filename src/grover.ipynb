{
 "cells": [
  {
   "cell_type": "code",
   "execution_count": 1,
   "metadata": {},
   "outputs": [],
   "source": [
    "import tensornetwork as tn\n",
    "import numpy as np\n",
    "import matplotlib.pyplot as plt"
   ]
  },
  {
   "cell_type": "code",
   "execution_count": 44,
   "metadata": {},
   "outputs": [],
   "source": [
    "import numpy as np\n",
    "\n",
    "def initialize_state(n_qubits):\n",
    "    \"\"\"Initialize the quantum state to an equal superposition state.\"\"\"\n",
    "    state = np.ones((2,) * n_qubits) / np.sqrt(2**n_qubits)\n",
    "    return state\n",
    "\n",
    "def apply_single_qubit_gate(state, gate, target_qubit):\n",
    "    \"\"\"Apply a single-qubit gate to a tensor network state.\"\"\"\n",
    "    gate = gate.reshape((2, 2))\n",
    "    axes = list(range(len(state.shape)))\n",
    "    axes[target_qubit] = axes[-1]\n",
    "    axes[-1] = target_qubit\n",
    "    state = np.tensordot(state, gate, axes=(target_qubit, 0))\n",
    "    return np.moveaxis(state, -1, target_qubit)\n",
    "\n",
    "def apply_multi_controlled_z(state):\n",
    "    \"\"\"Apply a multi-controlled-Z gate to the tensor network state.\"\"\"\n",
    "    n_qubits = len(state.shape)\n",
    "    # Multi-controlled-Z is equivalent to flipping the sign of the |11...1> state\n",
    "    indices = tuple([1] * n_qubits)\n",
    "    state[indices] *= -1\n",
    "    return state\n",
    "\n",
    "def apply_oracle(state, target_state):\n",
    "    \"\"\"Apply the oracle by flipping the phase of the target state.\"\"\"\n",
    "    shape = state.shape\n",
    "    indices = tuple(int(b) for b in format(target_state, f'0{len(shape)}b'))\n",
    "    state[indices] *= -1\n",
    "    return state\n",
    "\n",
    "def apply_diffusion(state):\n",
    "    \"\"\"Apply the diffusion operator.\"\"\"\n",
    "    n_qubits = len(state.shape)\n",
    "    H = np.array([[1, 1], [1, -1]]) / np.sqrt(2)\n",
    "    X = np.array([[0, 1], [1, 0]])\n",
    "    Z = np.array([[1, 0], [0, -1]])\n",
    "\n",
    "    # Apply H gate to all qubits\n",
    "    for qubit in range(n_qubits):\n",
    "        state = apply_single_qubit_gate(state, H, qubit)\n",
    "\n",
    "    # Apply X gate to all qubits\n",
    "    for qubit in range(n_qubits):\n",
    "        state = apply_single_qubit_gate(state, X, qubit)\n",
    "\n",
    "    # Apply multi-controlled-Z gate\n",
    "    state = apply_multi_controlled_z(state)\n",
    "\n",
    "    # Apply Z gate to 0th qubit\n",
    "    state = apply_single_qubit_gate(state, Z, 0)\n",
    "\n",
    "    # Apply X gate to all qubits\n",
    "    for qubit in range(n_qubits):\n",
    "        state = apply_single_qubit_gate(state, X, qubit)\n",
    "\n",
    "    # Apply Z gate to 0th qubit\n",
    "    state = apply_single_qubit_gate(state, Z, 0)\n",
    "\n",
    "    # Apply H gate to all qubits\n",
    "    for qubit in range(n_qubits):\n",
    "        state = apply_single_qubit_gate(state, H, qubit)\n",
    "\n",
    "    return state\n",
    "\n",
    "def measure_state(state):\n",
    "    \"\"\"Measure the quantum state to find the most probable state.\"\"\"\n",
    "    probabilities = np.abs(state)**2\n",
    "    most_probable_state = np.unravel_index(np.argmax(probabilities), state.shape)\n",
    "    return most_probable_state\n",
    "\n",
    "# Number of qubits\n",
    "# n_qubits = 3\n",
    "\n",
    "# # Initialize the quantum state\n",
    "# state = initialize_state(n_qubits)\n",
    "\n",
    "# # Target state to search for (in decimal representation)\n",
    "# target_state = 5  # Corresponds to the binary state '101'\n",
    "\n",
    "# # Number of Grover iterations\n",
    "# num_iterations = int(np.floor(np.pi / 4 * np.sqrt(2**n_qubits)))\n",
    "\n",
    "# # Perform Grover iterations\n",
    "# for _ in range(num_iterations):\n",
    "#     state = apply_oracle(state, target_state)\n",
    "#     state = apply_diffusion(state)\n",
    "\n",
    "# # Measure the final state\n",
    "# result = measure_state(state)\n",
    "# result_bin = ''.join(map(str, result))\n",
    "# print(\"Measurement result: \", result_bin)\n"
   ]
  },
  {
   "cell_type": "code",
   "execution_count": 49,
   "metadata": {},
   "outputs": [
    {
     "data": {
      "text/plain": [
       "array([[[0.35355339, 0.35355339],\n",
       "        [0.35355339, 0.35355339]],\n",
       "\n",
       "       [[0.35355339, 0.35355339],\n",
       "        [0.35355339, 0.35355339]]])"
      ]
     },
     "execution_count": 49,
     "metadata": {},
     "output_type": "execute_result"
    }
   ],
   "source": [
    "state = initialize_state(3)\n",
    "state"
   ]
  },
  {
   "cell_type": "code",
   "execution_count": 50,
   "metadata": {},
   "outputs": [
    {
     "data": {
      "text/plain": [
       "array([[[ 0.35355339,  0.35355339],\n",
       "        [ 0.35355339,  0.35355339]],\n",
       "\n",
       "       [[ 0.35355339, -0.35355339],\n",
       "        [ 0.35355339,  0.35355339]]])"
      ]
     },
     "execution_count": 50,
     "metadata": {},
     "output_type": "execute_result"
    }
   ],
   "source": [
    "state = apply_oracle(state, 5)\n",
    "state"
   ]
  },
  {
   "cell_type": "code",
   "execution_count": 51,
   "metadata": {},
   "outputs": [
    {
     "data": {
      "text/plain": [
       "array([[[0.1767767 , 0.1767767 ],\n",
       "        [0.1767767 , 0.1767767 ]],\n",
       "\n",
       "       [[0.1767767 , 0.88388348],\n",
       "        [0.1767767 , 0.1767767 ]]])"
      ]
     },
     "execution_count": 51,
     "metadata": {},
     "output_type": "execute_result"
    }
   ],
   "source": [
    "state = apply_diffusion(state)\n",
    "state"
   ]
  },
  {
   "cell_type": "code",
   "execution_count": 52,
   "metadata": {},
   "outputs": [
    {
     "data": {
      "text/plain": [
       "5"
      ]
     },
     "execution_count": 52,
     "metadata": {},
     "output_type": "execute_result"
    }
   ],
   "source": [
    "np.argmax(state.reshape(-1))"
   ]
  },
  {
   "cell_type": "code",
   "execution_count": null,
   "metadata": {},
   "outputs": [],
   "source": []
  }
 ],
 "metadata": {
  "kernelspec": {
   "display_name": "quantum",
   "language": "python",
   "name": "python3"
  },
  "language_info": {
   "codemirror_mode": {
    "name": "ipython",
    "version": 3
   },
   "file_extension": ".py",
   "mimetype": "text/x-python",
   "name": "python",
   "nbconvert_exporter": "python",
   "pygments_lexer": "ipython3",
   "version": "3.8.13"
  }
 },
 "nbformat": 4,
 "nbformat_minor": 2
}
