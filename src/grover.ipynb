{
 "cells": [
  {
   "cell_type": "code",
   "execution_count": 1,
   "metadata": {},
   "outputs": [],
   "source": [
    "import tensornetwork as tn\n",
    "import numpy as np\n",
    "import matplotlib.pyplot as plt"
   ]
  },
  {
   "cell_type": "markdown",
   "metadata": {},
   "source": [
    "# Grover example from scratch with tensor network in numpy"
   ]
  },
  {
   "cell_type": "code",
   "execution_count": 435,
   "metadata": {},
   "outputs": [
    {
     "data": {
      "text/plain": [
       "array([ 0.70710678, -0.70710678])"
      ]
     },
     "execution_count": 435,
     "metadata": {},
     "output_type": "execute_result"
    }
   ],
   "source": [
    "H = np.array([[1, 1], [1, -1]]) / np.sqrt(2)\n",
    "X = np.array([[0, 1], [1, 0]])\n",
    "Z = np.array([[1, 0], [0, -1]])\n",
    "\n",
    "# Init in superposition\n",
    "q0 = np.array([1, 1]) / np.sqrt(2)\n",
    "q1 = np.array([1, 1]) / np.sqrt(2)\n",
    "\n",
    "# Apply Oracle --> put - in front of target: 11\n",
    "q1[1] *= -1\n",
    "\n",
    "# Apply diffusion"
   ]
  },
  {
   "cell_type": "code",
   "execution_count": 459,
   "metadata": {},
   "outputs": [],
   "source": [
    "import numpy as np\n",
    "\n",
    "def initialize_state(n_qubits):\n",
    "    \"\"\"Initialize the quantum state to an equal superposition state.\"\"\"\n",
    "    state = np.ones((2,) * n_qubits) / np.sqrt(2**n_qubits)\n",
    "    return state\n",
    "\n",
    "def apply_single_qubit_gate(state, gate, target_qubit):\n",
    "    \"\"\"Apply a single-qubit gate to a tensor network state.\"\"\"\n",
    "    # gate = gate.reshape((2, 2))\n",
    "    # axes = list(range(len(state.shape)))\n",
    "    # axes[target_qubit] = axes[-1]\n",
    "    # axes[-1] = target_qubit\n",
    "    state = np.tensordot(state, gate, axes=(target_qubit, 0))\n",
    "    return np.moveaxis(state, -1, target_qubit)\n",
    "\n",
    "# def apply_single_qubit_gate(state, gate, target_qubit):\n",
    "#     \"\"\"Apply a single-qubit gate to a tensor network state using matrix multiplication.\"\"\"\n",
    "#     n_qubits = len(state.shape)\n",
    "#     # Move the target qubit to the first axis\n",
    "#     state = np.moveaxis(state, target_qubit, 0)\n",
    "#     # Reshape the state tensor to (2, 2^(n_qubits-1))\n",
    "#     state = state.reshape(2, -1)\n",
    "#     # Apply the gate using matrix multiplication\n",
    "#     state = gate @ state\n",
    "#     # Reshape back to the original shape\n",
    "#     state = state.reshape((2,) + state.shape[1:])\n",
    "#     # Move the target qubit back to its original position\n",
    "#     state = np.moveaxis(state, 0, target_qubit)\n",
    "#     return state\n",
    "\n",
    "def apply_multi_controlled_z(state):\n",
    "    \"\"\"Apply a multi-controlled-Z gate to the tensor network state.\"\"\"\n",
    "    n_qubits = len(state.shape)\n",
    "    # Multi-controlled-Z is equivalent to flipping the sign of the |11...1> state\n",
    "    indices = tuple([1] * n_qubits)\n",
    "    state[indices] *= -1\n",
    "    return state\n",
    "\n",
    "def apply_oracle(state, target_state):\n",
    "    \"\"\"Apply the oracle by flipping the phase of the target state.\"\"\"\n",
    "    shape = state.shape\n",
    "    indices = tuple(int(b) for b in format(target_state, f'0{len(shape)}b'))\n",
    "    state[indices] *= -1\n",
    "    return state\n",
    "\n",
    "def apply_diffusion(state):\n",
    "    \"\"\"Apply the diffusion operator.\"\"\"\n",
    "    n_qubits = len(state.shape)\n",
    "    H = np.array([[1, 1], [1, -1]]) / np.sqrt(2)\n",
    "    X = np.array([[0, 1], [1, 0]])\n",
    "    Z = np.array([[1, 0], [0, -1]])\n",
    "\n",
    "    # Apply H gate to all qubits\n",
    "    for qubit in range(n_qubits):\n",
    "        state = apply_single_qubit_gate(state, H, qubit)\n",
    "    print('Apply H gate to all qubits')\n",
    "    print(state)\n",
    "\n",
    "    # Apply X gate to all qubits\n",
    "    for qubit in range(n_qubits):\n",
    "        state = apply_single_qubit_gate(state, X, qubit)\n",
    "    print('Apply X gate to all qubits')\n",
    "    print(state)\n",
    "\n",
    "    # Apply multi-controlled-Z gate\n",
    "    state = apply_multi_controlled_z(state)\n",
    "    print(state)\n",
    "\n",
    "    # Apply Z gate to 0th qubit\n",
    "    state = apply_single_qubit_gate(state, Z, 0)\n",
    "    print(state)\n",
    "\n",
    "    # Apply X gate to all qubits\n",
    "    for qubit in range(n_qubits):\n",
    "        state = apply_single_qubit_gate(state, X, qubit)\n",
    "    print(state)\n",
    "\n",
    "    # Apply Z gate to 0th qubit\n",
    "    state = apply_single_qubit_gate(state, Z, 0)\n",
    "    print(state)\n",
    "\n",
    "    # Apply H gate to all qubits\n",
    "    for qubit in range(n_qubits):\n",
    "        state = apply_single_qubit_gate(state, H, qubit)\n",
    "\n",
    "    return state\n",
    "\n",
    "def measure_state(state):\n",
    "    \"\"\"Measure the quantum state to find the most probable state.\"\"\"\n",
    "    probabilities = np.abs(state)**2\n",
    "    most_probable_state = np.unravel_index(np.argmax(probabilities), state.shape)\n",
    "    return most_probable_state\n",
    "\n",
    "# Number of qubits\n",
    "# n_qubits = 3\n",
    "\n",
    "# # Initialize the quantum state\n",
    "# state = initialize_state(n_qubits)\n",
    "\n",
    "# # Target state to search for (in decimal representation)\n",
    "# target_state = 5  # Corresponds to the binary state '101'\n",
    "\n",
    "# # Number of Grover iterations\n",
    "# num_iterations = int(np.floor(np.pi / 4 * np.sqrt(2**n_qubits)))\n",
    "\n",
    "# # Perform Grover iterations\n",
    "# for _ in range(num_iterations):\n",
    "#     state = apply_oracle(state, target_state)\n",
    "#     state = apply_diffusion(state)\n",
    "\n",
    "# # Measure the final state\n",
    "# result = measure_state(state)\n",
    "# result_bin = ''.join(map(str, result))\n",
    "# print(\"Measurement result: \", result_bin)\n"
   ]
  },
  {
   "cell_type": "code",
   "execution_count": 410,
   "metadata": {},
   "outputs": [
    {
     "data": {
      "text/plain": [
       "array([ 0.25, -0.25, -0.25,  0.25])"
      ]
     },
     "execution_count": 410,
     "metadata": {},
     "output_type": "execute_result"
    }
   ],
   "source": [
    "H = np.array([[1, 1], [1, -1]]) / np.sqrt(2)\n",
    "X = np.array([[0, 1], [1, 0]])\n",
    "Z = np.array([[1, 0], [0, -1]])\n",
    "# a  = np.array([[.5, .5], [.5, -.5]])\n",
    "a  = np.array([.5, -.5])\n",
    "a\n",
    "# a = apply_single_qubit_gate(a, H, 0)\n",
    "# print(a)\n",
    "# a = apply_single_qubit_gate(a, H, 0)\n",
    "# print(a)\n",
    "\n",
    "np.kron(a, a)"
   ]
  },
  {
   "cell_type": "code",
   "execution_count": 115,
   "metadata": {},
   "outputs": [
    {
     "data": {
      "text/plain": [
       "array([ 0.5, -0.5])"
      ]
     },
     "execution_count": 115,
     "metadata": {},
     "output_type": "execute_result"
    }
   ],
   "source": [
    "np.tensordot(np.tensordot(a, H, axes=(0, 0)), H, axes=(0,0))"
   ]
  },
  {
   "cell_type": "code",
   "execution_count": 110,
   "metadata": {},
   "outputs": [
    {
     "data": {
      "text/plain": [
       "array([0.        , 0.70710678])"
      ]
     },
     "execution_count": 110,
     "metadata": {},
     "output_type": "execute_result"
    }
   ],
   "source": [
    "apply_single_qubit_gate(a, H, 0)"
   ]
  },
  {
   "cell_type": "code",
   "execution_count": 101,
   "metadata": {},
   "outputs": [
    {
     "data": {
      "text/plain": [
       "array([ 7.07106781e-01, -2.29934717e-17])"
      ]
     },
     "execution_count": 101,
     "metadata": {},
     "output_type": "execute_result"
    }
   ],
   "source": [
    "(H @ a[0, :])"
   ]
  },
  {
   "cell_type": "code",
   "execution_count": 96,
   "metadata": {},
   "outputs": [
    {
     "data": {
      "text/plain": [
       "array([[ 0.5,  0.5],\n",
       "       [ 0.5, -0.5]])"
      ]
     },
     "execution_count": 96,
     "metadata": {},
     "output_type": "execute_result"
    }
   ],
   "source": [
    "a = np.tensordot(a, H, axes=(0, 0))\n",
    "a = np.tensordot(a, H, axes=(1, 0))\n",
    "a"
   ]
  },
  {
   "cell_type": "code",
   "execution_count": 432,
   "metadata": {},
   "outputs": [
    {
     "data": {
      "text/plain": [
       "array([0.        , 0.70710678])"
      ]
     },
     "execution_count": 432,
     "metadata": {},
     "output_type": "execute_result"
    }
   ],
   "source": [
    "a = np.array([-.5, -.5])\n",
    "b = np.array([.5, -.5])\n",
    "\n",
    "np.tensordot(b, H, axes=(0, 0))\n"
   ]
  },
  {
   "cell_type": "markdown",
   "metadata": {},
   "source": [
    "### start"
   ]
  },
  {
   "cell_type": "code",
   "execution_count": 479,
   "metadata": {},
   "outputs": [
    {
     "data": {
      "text/plain": [
       "array([[0.5, 0.5],\n",
       "       [0.5, 0.5]])"
      ]
     },
     "execution_count": 479,
     "metadata": {},
     "output_type": "execute_result"
    }
   ],
   "source": [
    "state = initialize_state(2)\n",
    "state"
   ]
  },
  {
   "cell_type": "code",
   "execution_count": 480,
   "metadata": {},
   "outputs": [
    {
     "data": {
      "text/plain": [
       "array([[ 0.5,  0.5],\n",
       "       [ 0.5, -0.5]])"
      ]
     },
     "execution_count": 480,
     "metadata": {},
     "output_type": "execute_result"
    }
   ],
   "source": [
    "state = apply_oracle(state, 3)\n",
    "state"
   ]
  },
  {
   "cell_type": "code",
   "execution_count": 494,
   "metadata": {},
   "outputs": [
    {
     "name": "stdout",
     "output_type": "stream",
     "text": [
      "[[ 0.70710678  0.70710678]\n",
      " [ 0.70710678 -0.70710678]]\n",
      "[[ 0.5  0.5]\n",
      " [ 0.5 -0.5]]\n"
     ]
    }
   ],
   "source": [
    "#print(H @ state[0,:])\n",
    "#print(H @ state[1,:])\n",
    "print(H)\n",
    "print(s)"
   ]
  },
  {
   "cell_type": "code",
   "execution_count": 495,
   "metadata": {},
   "outputs": [
    {
     "data": {
      "text/plain": [
       "array([[0.70710678, 0.        ],\n",
       "       [0.        , 0.70710678]])"
      ]
     },
     "execution_count": 495,
     "metadata": {},
     "output_type": "execute_result"
    }
   ],
   "source": [
    "s = np.tensordot(state, H, (0,0))\n",
    "# s = np.moveaxis(s, -1, 0)\n",
    "s\n",
    "# s = np.tensordot(s, H, (1,0))\n",
    "# s\n",
    "# s = np.tensordot(s, H, (2,1))\n",
    "# s = np.moveaxis(s,-1, 2 )\n",
    "\n",
    "\n",
    "s"
   ]
  },
  {
   "cell_type": "code",
   "execution_count": 529,
   "metadata": {},
   "outputs": [
    {
     "data": {
      "text/plain": [
       "array([[4., 4.],\n",
       "       [8., 8.]])"
      ]
     },
     "execution_count": 529,
     "metadata": {},
     "output_type": "execute_result"
    }
   ],
   "source": [
    "a = np.array([*range(4)]).reshape(2,2)\n",
    "b = np.ones((2,2))*2\n",
    "# np.einsum(\"i,i\",a,b)\n",
    "\n",
    "np.tensordot(a, b, axes=(0,0))"
   ]
  },
  {
   "cell_type": "code",
   "execution_count": 549,
   "metadata": {},
   "outputs": [
    {
     "data": {
      "text/plain": [
       "array([[[20., 20.],\n",
       "        [22., 22.]],\n",
       "\n",
       "       [[24., 24.],\n",
       "        [26., 26.]]])"
      ]
     },
     "execution_count": 549,
     "metadata": {},
     "output_type": "execute_result"
    }
   ],
   "source": [
    "a = np.array([*range(8, 16)]).reshape(2,2,2)\n",
    "b = np.ones((2,2))\n",
    "# np.einsum(\"i,i\",a,b)\n",
    "\n",
    "np.tensordot(a, b, axes=(0,0))"
   ]
  },
  {
   "cell_type": "code",
   "execution_count": 552,
   "metadata": {},
   "outputs": [
    {
     "data": {
      "text/plain": [
       "array([[20., 22.],\n",
       "       [24., 26.]])"
      ]
     },
     "execution_count": 552,
     "metadata": {},
     "output_type": "execute_result"
    }
   ],
   "source": [
    "a = np.array([*range(8, 16)]).reshape(2,2,2)\n",
    "b = np.ones((2))\n",
    "# np.einsum(\"i,i\",a,b)\n",
    "\n",
    "np.tensordot(a, b, axes=(0,0))"
   ]
  },
  {
   "cell_type": "code",
   "execution_count": null,
   "metadata": {},
   "outputs": [],
   "source": [
    "np.array(\n",
    "    [\n",
    "        [20, 22],\n",
    "\n",
    "    ]\n",
    ")"
   ]
  },
  {
   "cell_type": "code",
   "execution_count": 527,
   "metadata": {},
   "outputs": [
    {
     "data": {
      "text/plain": [
       "array([[0.5 , 0.15],\n",
       "       [0.2 , 0.06]])"
      ]
     },
     "execution_count": 527,
     "metadata": {},
     "output_type": "execute_result"
    }
   ],
   "source": [
    "a = np.array([.5,.2])\n",
    "b = np.array([1, .3])\n",
    "\n",
    "np.tensordot(a,b, axes=(0))"
   ]
  },
  {
   "cell_type": "code",
   "execution_count": 497,
   "metadata": {},
   "outputs": [
    {
     "data": {
      "text/plain": [
       "array([[0.35355339, 0.35355339],\n",
       "       [0.35355339, 0.35355339]])"
      ]
     },
     "execution_count": 497,
     "metadata": {},
     "output_type": "execute_result"
    }
   ],
   "source": [
    "res = np.zeros((2,2))\n",
    "for i in range(2):\n",
    "    for j in range(2):\n",
    "        res[i,j] += state[i,j] * H[i,j]\n",
    "res"
   ]
  },
  {
   "cell_type": "code",
   "execution_count": 464,
   "metadata": {},
   "outputs": [
    {
     "data": {
      "text/plain": [
       "array([[[ 5.00000000e-01,  5.00000000e-01],\n",
       "        [ 5.00000000e-01, -1.11855716e-17]],\n",
       "\n",
       "       [[-1.11855716e-17, -1.11855716e-17],\n",
       "        [-1.11855716e-17,  5.00000000e-01]]])"
      ]
     },
     "execution_count": 464,
     "metadata": {},
     "output_type": "execute_result"
    }
   ],
   "source": [
    "s = np.tensordot(state, H, (0,0))\n",
    "s = np.moveaxis(s, -1, 0)\n",
    "s"
   ]
  },
  {
   "cell_type": "code",
   "execution_count": 478,
   "metadata": {},
   "outputs": [
    {
     "name": "stdout",
     "output_type": "stream",
     "text": [
      "[[[0 1]\n",
      "  [2 3]]\n",
      "\n",
      " [[4 5]\n",
      "  [6 7]]]\n"
     ]
    },
    {
     "data": {
      "text/plain": [
       "array([[[0, 2],\n",
       "        [1, 3]],\n",
       "\n",
       "       [[4, 6],\n",
       "        [5, 7]]])"
      ]
     },
     "execution_count": 478,
     "metadata": {},
     "output_type": "execute_result"
    }
   ],
   "source": [
    "c = np.array([*range(8)]).reshape((2,2,2))\n",
    "print(c)\n",
    "np.moveaxis(c, -1, 1)"
   ]
  },
  {
   "cell_type": "code",
   "execution_count": 471,
   "metadata": {},
   "outputs": [
    {
     "data": {
      "text/plain": [
       "array([[0, 1],\n",
       "       [2, 3]])"
      ]
     },
     "execution_count": 471,
     "metadata": {},
     "output_type": "execute_result"
    }
   ],
   "source": [
    "c[0]"
   ]
  },
  {
   "cell_type": "code",
   "execution_count": null,
   "metadata": {},
   "outputs": [],
   "source": []
  },
  {
   "cell_type": "code",
   "execution_count": 427,
   "metadata": {},
   "outputs": [
    {
     "data": {
      "text/plain": [
       "array([[ 0.5,  0.5],\n",
       "       [ 0.5, -0.5]])"
      ]
     },
     "execution_count": 427,
     "metadata": {},
     "output_type": "execute_result"
    }
   ],
   "source": [
    "state = np.tensordot(state, H, axes=(0, 0))\n",
    "np.tensordot(state, H, axes=(1, 0))"
   ]
  },
  {
   "cell_type": "code",
   "execution_count": 450,
   "metadata": {},
   "outputs": [
    {
     "data": {
      "text/plain": [
       "array([[[ 0.75,  0.25],\n",
       "        [ 0.25, -0.25]],\n",
       "\n",
       "       [[ 0.25, -0.25],\n",
       "        [-0.25,  0.25]]])"
      ]
     },
     "execution_count": 450,
     "metadata": {},
     "output_type": "execute_result"
    }
   ],
   "source": [
    "state = apply_single_qubit_gate(state, H, 0)\n",
    "state = apply_single_qubit_gate(state, H, 1)\n",
    "state = apply_single_qubit_gate(state, H, 2)\n",
    "state"
   ]
  },
  {
   "cell_type": "code",
   "execution_count": 408,
   "metadata": {},
   "outputs": [
    {
     "name": "stdout",
     "output_type": "stream",
     "text": [
      "Apply H gate to all qubits\n",
      "[[ 0.5  0.5]\n",
      " [ 0.5 -0.5]]\n",
      "Apply X gate to all qubits\n",
      "[[-0.5  0.5]\n",
      " [ 0.5  0.5]]\n",
      "[[-0.5  0.5]\n",
      " [ 0.5 -0.5]]\n",
      "[[-0.5  0.5]\n",
      " [-0.5  0.5]]\n",
      "[[ 0.5 -0.5]\n",
      " [ 0.5 -0.5]]\n",
      "[[ 0.5 -0.5]\n",
      " [-0.5  0.5]]\n"
     ]
    },
    {
     "data": {
      "text/plain": [
       "array([[5.97792087e-34, 3.25176795e-17],\n",
       "       [6.22328532e-19, 1.00000000e+00]])"
      ]
     },
     "execution_count": 408,
     "metadata": {},
     "output_type": "execute_result"
    }
   ],
   "source": [
    "state = apply_diffusion(state)\n",
    "state"
   ]
  },
  {
   "cell_type": "code",
   "execution_count": 368,
   "metadata": {},
   "outputs": [
    {
     "data": {
      "text/plain": [
       "array([ 0.5,  0.5,  0.5, -0.5])"
      ]
     },
     "execution_count": 368,
     "metadata": {},
     "output_type": "execute_result"
    }
   ],
   "source": [
    "np.kron(H, H) @ state.reshape(-1)\n",
    "# np.kron(np.kron(H, H), H) @ state.reshape(-1)"
   ]
  },
  {
   "cell_type": "code",
   "execution_count": 371,
   "metadata": {},
   "outputs": [
    {
     "data": {
      "text/plain": [
       "array([[ 0.5,  0.5],\n",
       "       [ 0.5, -0.5]])"
      ]
     },
     "execution_count": 371,
     "metadata": {},
     "output_type": "execute_result"
    }
   ],
   "source": [
    "H@H@ state"
   ]
  },
  {
   "cell_type": "code",
   "execution_count": 355,
   "metadata": {},
   "outputs": [
    {
     "name": "stdout",
     "output_type": "stream",
     "text": [
      "[[[ 7.07106781e-01  3.53553391e-01]\n",
      "  [ 2.29934717e-17  3.53553391e-01]]\n",
      "\n",
      " [[-1.58187870e-17  3.53553391e-01]\n",
      "  [ 5.17222793e-35 -3.53553391e-01]]]\n"
     ]
    },
    {
     "data": {
      "text/plain": [
       "array([[[ 7.07106781e-01,  2.29934717e-17],\n",
       "        [ 3.53553391e-01,  3.53553391e-01]],\n",
       "\n",
       "       [[-1.58187870e-17,  5.17222793e-35],\n",
       "        [ 3.53553391e-01, -3.53553391e-01]]])"
      ]
     },
     "execution_count": 355,
     "metadata": {},
     "output_type": "execute_result"
    }
   ],
   "source": [
    "s2 = apply_single_qubit_gate(state, H, 0)\n",
    "s2 = apply_single_qubit_gate(s2, H, 1)\n",
    "# s2 = apply_single_qubit_gate(s2, H, 2)\n",
    "print(s2)\n",
    "np.moveaxis(s2, -1, 1)"
   ]
  },
  {
   "cell_type": "code",
   "execution_count": 358,
   "metadata": {},
   "outputs": [
    {
     "name": "stdout",
     "output_type": "stream",
     "text": [
      "[[[ 5.00000000e-01 -1.11855716e-17]\n",
      "  [ 5.00000000e-01 -1.11855716e-17]]\n",
      "\n",
      " [[ 5.00000000e-01 -1.11855716e-17]\n",
      "  [-1.11855716e-17  5.00000000e-01]]]\n",
      "[[[ 7.07106781e-01  2.29934717e-17]\n",
      "  [-1.58187870e-17  5.17222793e-35]]\n",
      "\n",
      " [[ 3.53553391e-01  3.53553391e-01]\n",
      "  [ 3.53553391e-01 -3.53553391e-01]]]\n",
      "[[[ 5.00000000e-01  5.00000000e-01]\n",
      "  [-1.11855716e-17 -1.11855716e-17]]\n",
      "\n",
      " [[ 5.00000000e-01  3.11164266e-19]\n",
      "  [-2.74444113e-17  5.00000000e-01]]]\n"
     ]
    }
   ],
   "source": [
    "s2 = np.tensordot(state, H, axes=(0, 0))\n",
    "print(s2)\n",
    "s2 = np.tensordot(s2, H, axes=(1, 0))\n",
    "print(s2)\n",
    "\n",
    "s2 = np.tensordot(s2, H, axes=(2, 0))\n",
    "print(s2)"
   ]
  },
  {
   "cell_type": "code",
   "execution_count": 336,
   "metadata": {},
   "outputs": [
    {
     "data": {
      "text/plain": [
       "array([5.00000000e-01, 1.11855716e-17])"
      ]
     },
     "execution_count": 336,
     "metadata": {},
     "output_type": "execute_result"
    }
   ],
   "source": [
    "H @ state[0][1]"
   ]
  },
  {
   "cell_type": "code",
   "execution_count": 283,
   "metadata": {},
   "outputs": [],
   "source": [
    "# np.kron(state[0, :], state[1, :])"
   ]
  },
  {
   "cell_type": "code",
   "execution_count": 299,
   "metadata": {},
   "outputs": [
    {
     "name": "stdout",
     "output_type": "stream",
     "text": [
      "[[ 5.00000000e-01  5.00000000e-01  5.00000000e-01 -1.11855716e-17]\n",
      " [-1.11855716e-17 -1.11855716e-17 -1.11855716e-17  5.00000000e-01]]\n",
      "[[ 7.07106781e-01  2.29934717e-17]\n",
      " [-1.58187870e-17  5.17222793e-35]\n",
      " [ 3.53553391e-01  3.53553391e-01]\n",
      " [ 3.53553391e-01 -3.53553391e-01]]\n"
     ]
    },
    {
     "ename": "AxisError",
     "evalue": "source: axis 2 is out of bounds for array of dimension 2",
     "output_type": "error",
     "traceback": [
      "\u001b[0;31m---------------------------------------------------------------------------\u001b[0m",
      "\u001b[0;31mAxisError\u001b[0m                                 Traceback (most recent call last)",
      "Cell \u001b[0;32mIn[299], line 5\u001b[0m\n\u001b[1;32m      3\u001b[0m state \u001b[38;5;241m=\u001b[39m apply_single_qubit_gate(state, H, \u001b[38;5;241m1\u001b[39m)\n\u001b[1;32m      4\u001b[0m \u001b[38;5;28mprint\u001b[39m(state)\n\u001b[0;32m----> 5\u001b[0m state \u001b[38;5;241m=\u001b[39m \u001b[43mapply_single_qubit_gate\u001b[49m\u001b[43m(\u001b[49m\u001b[43mstate\u001b[49m\u001b[43m,\u001b[49m\u001b[43m \u001b[49m\u001b[43mH\u001b[49m\u001b[43m,\u001b[49m\u001b[43m \u001b[49m\u001b[38;5;241;43m2\u001b[39;49m\u001b[43m)\u001b[49m\n\u001b[1;32m      6\u001b[0m \u001b[38;5;28mprint\u001b[39m(state)\n",
      "Cell \u001b[0;32mIn[278], line 21\u001b[0m, in \u001b[0;36mapply_single_qubit_gate\u001b[0;34m(state, gate, target_qubit)\u001b[0m\n\u001b[1;32m     19\u001b[0m n_qubits \u001b[38;5;241m=\u001b[39m \u001b[38;5;28mlen\u001b[39m(state\u001b[38;5;241m.\u001b[39mshape)\n\u001b[1;32m     20\u001b[0m \u001b[38;5;66;03m# Move the target qubit to the first axis\u001b[39;00m\n\u001b[0;32m---> 21\u001b[0m state \u001b[38;5;241m=\u001b[39m \u001b[43mnp\u001b[49m\u001b[38;5;241;43m.\u001b[39;49m\u001b[43mmoveaxis\u001b[49m\u001b[43m(\u001b[49m\u001b[43mstate\u001b[49m\u001b[43m,\u001b[49m\u001b[43m \u001b[49m\u001b[43mtarget_qubit\u001b[49m\u001b[43m,\u001b[49m\u001b[43m \u001b[49m\u001b[38;5;241;43m0\u001b[39;49m\u001b[43m)\u001b[49m\n\u001b[1;32m     22\u001b[0m \u001b[38;5;66;03m# Reshape the state tensor to (2, 2^(n_qubits-1))\u001b[39;00m\n\u001b[1;32m     23\u001b[0m state \u001b[38;5;241m=\u001b[39m state\u001b[38;5;241m.\u001b[39mreshape(\u001b[38;5;241m2\u001b[39m, \u001b[38;5;241m-\u001b[39m\u001b[38;5;241m1\u001b[39m)\n",
      "File \u001b[0;32m<__array_function__ internals>:180\u001b[0m, in \u001b[0;36mmoveaxis\u001b[0;34m(*args, **kwargs)\u001b[0m\n",
      "File \u001b[0;32m~/anaconda3/envs/graph/lib/python3.8/site-packages/numpy/core/numeric.py:1460\u001b[0m, in \u001b[0;36mmoveaxis\u001b[0;34m(a, source, destination)\u001b[0m\n\u001b[1;32m   1457\u001b[0m     a \u001b[38;5;241m=\u001b[39m asarray(a)\n\u001b[1;32m   1458\u001b[0m     transpose \u001b[38;5;241m=\u001b[39m a\u001b[38;5;241m.\u001b[39mtranspose\n\u001b[0;32m-> 1460\u001b[0m source \u001b[38;5;241m=\u001b[39m \u001b[43mnormalize_axis_tuple\u001b[49m\u001b[43m(\u001b[49m\u001b[43msource\u001b[49m\u001b[43m,\u001b[49m\u001b[43m \u001b[49m\u001b[43ma\u001b[49m\u001b[38;5;241;43m.\u001b[39;49m\u001b[43mndim\u001b[49m\u001b[43m,\u001b[49m\u001b[43m \u001b[49m\u001b[38;5;124;43m'\u001b[39;49m\u001b[38;5;124;43msource\u001b[39;49m\u001b[38;5;124;43m'\u001b[39;49m\u001b[43m)\u001b[49m\n\u001b[1;32m   1461\u001b[0m destination \u001b[38;5;241m=\u001b[39m normalize_axis_tuple(destination, a\u001b[38;5;241m.\u001b[39mndim, \u001b[38;5;124m'\u001b[39m\u001b[38;5;124mdestination\u001b[39m\u001b[38;5;124m'\u001b[39m)\n\u001b[1;32m   1462\u001b[0m \u001b[38;5;28;01mif\u001b[39;00m \u001b[38;5;28mlen\u001b[39m(source) \u001b[38;5;241m!=\u001b[39m \u001b[38;5;28mlen\u001b[39m(destination):\n",
      "File \u001b[0;32m~/anaconda3/envs/graph/lib/python3.8/site-packages/numpy/core/numeric.py:1391\u001b[0m, in \u001b[0;36mnormalize_axis_tuple\u001b[0;34m(axis, ndim, argname, allow_duplicate)\u001b[0m\n\u001b[1;32m   1389\u001b[0m         \u001b[38;5;28;01mpass\u001b[39;00m\n\u001b[1;32m   1390\u001b[0m \u001b[38;5;66;03m# Going via an iterator directly is slower than via list comprehension.\u001b[39;00m\n\u001b[0;32m-> 1391\u001b[0m axis \u001b[38;5;241m=\u001b[39m \u001b[38;5;28mtuple\u001b[39m([normalize_axis_index(ax, ndim, argname) \u001b[38;5;28;01mfor\u001b[39;00m ax \u001b[38;5;129;01min\u001b[39;00m axis])\n\u001b[1;32m   1392\u001b[0m \u001b[38;5;28;01mif\u001b[39;00m \u001b[38;5;129;01mnot\u001b[39;00m allow_duplicate \u001b[38;5;129;01mand\u001b[39;00m \u001b[38;5;28mlen\u001b[39m(\u001b[38;5;28mset\u001b[39m(axis)) \u001b[38;5;241m!=\u001b[39m \u001b[38;5;28mlen\u001b[39m(axis):\n\u001b[1;32m   1393\u001b[0m     \u001b[38;5;28;01mif\u001b[39;00m argname:\n",
      "File \u001b[0;32m~/anaconda3/envs/graph/lib/python3.8/site-packages/numpy/core/numeric.py:1391\u001b[0m, in \u001b[0;36m<listcomp>\u001b[0;34m(.0)\u001b[0m\n\u001b[1;32m   1389\u001b[0m         \u001b[38;5;28;01mpass\u001b[39;00m\n\u001b[1;32m   1390\u001b[0m \u001b[38;5;66;03m# Going via an iterator directly is slower than via list comprehension.\u001b[39;00m\n\u001b[0;32m-> 1391\u001b[0m axis \u001b[38;5;241m=\u001b[39m \u001b[38;5;28mtuple\u001b[39m([\u001b[43mnormalize_axis_index\u001b[49m\u001b[43m(\u001b[49m\u001b[43max\u001b[49m\u001b[43m,\u001b[49m\u001b[43m \u001b[49m\u001b[43mndim\u001b[49m\u001b[43m,\u001b[49m\u001b[43m \u001b[49m\u001b[43margname\u001b[49m\u001b[43m)\u001b[49m \u001b[38;5;28;01mfor\u001b[39;00m ax \u001b[38;5;129;01min\u001b[39;00m axis])\n\u001b[1;32m   1392\u001b[0m \u001b[38;5;28;01mif\u001b[39;00m \u001b[38;5;129;01mnot\u001b[39;00m allow_duplicate \u001b[38;5;129;01mand\u001b[39;00m \u001b[38;5;28mlen\u001b[39m(\u001b[38;5;28mset\u001b[39m(axis)) \u001b[38;5;241m!=\u001b[39m \u001b[38;5;28mlen\u001b[39m(axis):\n\u001b[1;32m   1393\u001b[0m     \u001b[38;5;28;01mif\u001b[39;00m argname:\n",
      "\u001b[0;31mAxisError\u001b[0m: source: axis 2 is out of bounds for array of dimension 2"
     ]
    }
   ],
   "source": [
    "state = apply_single_qubit_gate(state, H, 0)\n",
    "print(state)\n",
    "state = apply_single_qubit_gate(state, H, 1)\n",
    "print(state)\n",
    "state = apply_single_qubit_gate(state, H, 2)\n",
    "print(state)"
   ]
  },
  {
   "cell_type": "code",
   "execution_count": 233,
   "metadata": {},
   "outputs": [
    {
     "data": {
      "text/plain": [
       "array([[ 0.5, -0.5],\n",
       "       [ 0.5,  0.5]])"
      ]
     },
     "execution_count": 233,
     "metadata": {},
     "output_type": "execute_result"
    }
   ],
   "source": [
    "apply_single_qubit_gate(state, X, 0)"
   ]
  },
  {
   "cell_type": "code",
   "execution_count": 246,
   "metadata": {},
   "outputs": [
    {
     "data": {
      "text/plain": [
       "array([ 0.5, -0.5])"
      ]
     },
     "execution_count": 246,
     "metadata": {},
     "output_type": "execute_result"
    }
   ],
   "source": [
    "state[:, 1]"
   ]
  },
  {
   "cell_type": "code",
   "execution_count": null,
   "metadata": {},
   "outputs": [],
   "source": []
  },
  {
   "cell_type": "code",
   "execution_count": 245,
   "metadata": {},
   "outputs": [
    {
     "data": {
      "text/plain": [
       "array([-0.5,  0.5])"
      ]
     },
     "execution_count": 245,
     "metadata": {},
     "output_type": "execute_result"
    }
   ],
   "source": [
    "X@state[:, 1]"
   ]
  },
  {
   "cell_type": "code",
   "execution_count": 244,
   "metadata": {},
   "outputs": [
    {
     "data": {
      "text/plain": [
       "array([-1,  1])"
      ]
     },
     "execution_count": 244,
     "metadata": {},
     "output_type": "execute_result"
    }
   ],
   "source": [
    "X@np.array([1, -1])"
   ]
  },
  {
   "cell_type": "code",
   "execution_count": 222,
   "metadata": {},
   "outputs": [
    {
     "name": "stdout",
     "output_type": "stream",
     "text": [
      "[[ 0.5 -0.5]\n",
      " [ 0.5  0.5]]\n",
      "[[-0.5  0.5]\n",
      " [ 0.5  0.5]]\n"
     ]
    }
   ],
   "source": [
    "state = apply_single_qubit_gate(state, X, 0)\n",
    "print(state)\n",
    "state = apply_single_qubit_gate(state, X, 1)\n",
    "print(state)"
   ]
  },
  {
   "cell_type": "code",
   "execution_count": 223,
   "metadata": {},
   "outputs": [
    {
     "name": "stdout",
     "output_type": "stream",
     "text": [
      "[[-0.5  0.5]\n",
      " [ 0.5 -0.5]]\n"
     ]
    }
   ],
   "source": [
    "state = apply_multi_controlled_z(state)\n",
    "print(state)"
   ]
  },
  {
   "cell_type": "code",
   "execution_count": 224,
   "metadata": {},
   "outputs": [
    {
     "name": "stdout",
     "output_type": "stream",
     "text": [
      "[[-0.5  0.5]\n",
      " [-0.5  0.5]]\n"
     ]
    }
   ],
   "source": [
    "state = apply_single_qubit_gate(state, Z, 0)\n",
    "print(state)"
   ]
  },
  {
   "cell_type": "code",
   "execution_count": 225,
   "metadata": {},
   "outputs": [
    {
     "name": "stdout",
     "output_type": "stream",
     "text": [
      "[[-0.5  0.5]\n",
      " [-0.5  0.5]]\n",
      "[[ 0.5 -0.5]\n",
      " [ 0.5 -0.5]]\n"
     ]
    }
   ],
   "source": [
    "state = apply_single_qubit_gate(state, X, 0)\n",
    "print(state)\n",
    "state = apply_single_qubit_gate(state, X, 1)\n",
    "print(state)"
   ]
  },
  {
   "cell_type": "code",
   "execution_count": 226,
   "metadata": {},
   "outputs": [
    {
     "name": "stdout",
     "output_type": "stream",
     "text": [
      "[[ 0.5 -0.5]\n",
      " [-0.5  0.5]]\n"
     ]
    }
   ],
   "source": [
    "state = apply_single_qubit_gate(state, Z, 0)\n",
    "print(state)"
   ]
  },
  {
   "cell_type": "code",
   "execution_count": 227,
   "metadata": {},
   "outputs": [
    {
     "name": "stdout",
     "output_type": "stream",
     "text": [
      "[[ 2.29934717e-17 -2.29934717e-17]\n",
      " [ 7.07106781e-01 -7.07106781e-01]]\n",
      "[[5.97792087e-34 3.25176795e-17]\n",
      " [6.22328532e-19 1.00000000e+00]]\n"
     ]
    }
   ],
   "source": [
    "state = apply_single_qubit_gate(state, H, 0)\n",
    "print(state)\n",
    "state = apply_single_qubit_gate(state, H, 1)\n",
    "print(state)"
   ]
  },
  {
   "cell_type": "markdown",
   "metadata": {},
   "source": [
    "### done"
   ]
  },
  {
   "cell_type": "code",
   "execution_count": null,
   "metadata": {},
   "outputs": [],
   "source": [
    "\n",
    "\n",
    "    # Apply Z gate to 0th qubit\n",
    "\n",
    "\n",
    "    # Apply X gate to all qubits\n",
    "    for qubit in range(n_qubits):\n",
    "    state = apply_single_qubit_gate(state, X, qubit)\n",
    "    print(state)\n",
    "\n",
    "    # Apply Z gate to 0th qubit\n",
    "    state = apply_single_qubit_gate(state, Z, 0)\n",
    "    print(state)\n",
    "\n",
    "    # Apply H gate to all qubits\n",
    "    for qubit in range(n_qubits):\n",
    "        state = apply_single_qubit_gate(state, H, qubit)"
   ]
  },
  {
   "cell_type": "code",
   "execution_count": 132,
   "metadata": {},
   "outputs": [
    {
     "data": {
      "text/plain": [
       "array([-0.0625,  0.0625, -0.0625,  0.0625])"
      ]
     },
     "execution_count": 132,
     "metadata": {},
     "output_type": "execute_result"
    }
   ],
   "source": [
    "a = np.array([-.25, -.25])\n",
    "b = np.array([.25, -.25])\n",
    "\n",
    "np.kron(a, b)"
   ]
  },
  {
   "cell_type": "code",
   "execution_count": 134,
   "metadata": {},
   "outputs": [
    {
     "data": {
      "text/plain": [
       "array([ 1.00000000e+00, -2.23711432e-17])"
      ]
     },
     "execution_count": 134,
     "metadata": {},
     "output_type": "execute_result"
    }
   ],
   "source": [
    "a = np.array([1, 0])\n",
    "\n",
    "H@H@a"
   ]
  },
  {
   "cell_type": "code",
   "execution_count": 137,
   "metadata": {},
   "outputs": [
    {
     "name": "stdout",
     "output_type": "stream",
     "text": [
      "Apply H gate to all qubits\n",
      "[[ 0.5  0.5]\n",
      " [ 0.5 -0.5]]\n",
      "Apply X gate to all qubits\n",
      "[[-0.5  0.5]\n",
      " [ 0.5  0.5]]\n",
      "[[-0.5  0.5]\n",
      " [ 0.5 -0.5]]\n",
      "[[-0.5  0.5]\n",
      " [-0.5  0.5]]\n",
      "[[ 0.5 -0.5]\n",
      " [ 0.5 -0.5]]\n",
      "[[ 0.5 -0.5]\n",
      " [-0.5  0.5]]\n"
     ]
    },
    {
     "data": {
      "text/plain": [
       "array([[5.97792087e-34, 3.25176795e-17],\n",
       "       [6.22328532e-19, 1.00000000e+00]])"
      ]
     },
     "execution_count": 137,
     "metadata": {},
     "output_type": "execute_result"
    }
   ],
   "source": [
    "state = apply_diffusion(state)\n",
    "state"
   ]
  },
  {
   "cell_type": "code",
   "execution_count": 52,
   "metadata": {},
   "outputs": [
    {
     "data": {
      "text/plain": [
       "5"
      ]
     },
     "execution_count": 52,
     "metadata": {},
     "output_type": "execute_result"
    }
   ],
   "source": [
    "np.argmax(state.reshape(-1))"
   ]
  },
  {
   "cell_type": "code",
   "execution_count": null,
   "metadata": {},
   "outputs": [],
   "source": []
  }
 ],
 "metadata": {
  "kernelspec": {
   "display_name": "quantum",
   "language": "python",
   "name": "python3"
  },
  "language_info": {
   "codemirror_mode": {
    "name": "ipython",
    "version": 3
   },
   "file_extension": ".py",
   "mimetype": "text/x-python",
   "name": "python",
   "nbconvert_exporter": "python",
   "pygments_lexer": "ipython3",
   "version": "3.8.13"
  }
 },
 "nbformat": 4,
 "nbformat_minor": 2
}
