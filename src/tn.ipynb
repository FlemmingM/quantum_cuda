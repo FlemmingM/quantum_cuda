{
 "cells": [
  {
   "cell_type": "code",
   "execution_count": 146,
   "metadata": {},
   "outputs": [],
   "source": [
    "import tensornetwork as tn\n",
    "import numpy as np\n",
    "import matplotlib.pyplot as plt"
   ]
  },
  {
   "cell_type": "code",
   "execution_count": 369,
   "metadata": {},
   "outputs": [
    {
     "name": "stdout",
     "output_type": "stream",
     "text": [
      "Measurement result:  00\n"
     ]
    }
   ],
   "source": [
    "\n",
    "def initialize_state(n_qubits):\n",
    "    \"\"\"Initialize the quantum state to an equal superposition state.\"\"\"\n",
    "    state = np.ones((2,) * n_qubits) / np.sqrt(2**n_qubits)\n",
    "    return state\n",
    "\n",
    "def apply_gate(state, gate, qubits, target_qubit):\n",
    "    \"\"\"Apply a single-qubit gate to a tensor network state.\"\"\"\n",
    "    gate = gate.reshape((2, 2))\n",
    "    axes = list(range(len(state.shape)))\n",
    "    axes[target_qubit] = axes[-1]\n",
    "    axes[-1] = target_qubit\n",
    "    state = np.tensordot(state, gate, axes=(target_qubit, 0))\n",
    "    return np.moveaxis(state, -1, target_qubit)\n",
    "\n",
    "def apply_oracle(state, target_state):\n",
    "    \"\"\"Apply the oracle by flipping the phase of the target state.\"\"\"\n",
    "    shape = state.shape\n",
    "    indices = tuple(int(b) for b in format(target_state, f'0{len(shape)}b'))\n",
    "    state[indices] *= -1\n",
    "    return state\n",
    "\n",
    "def apply_diffusion(state):\n",
    "    \"\"\"Apply the diffusion operator.\"\"\"\n",
    "    n_qubits = len(state.shape)\n",
    "    H = np.array([[1, 1], [1, -1]]) / np.sqrt(2)\n",
    "    X = np.array([[0, 1], [1, 0]])\n",
    "\n",
    "    for qubit in range(n_qubits):\n",
    "        state = apply_gate(state, H, n_qubits, qubit)\n",
    "\n",
    "    for qubit in range(n_qubits):\n",
    "        state = apply_gate(state, X, n_qubits, qubit)\n",
    "\n",
    "    # Multi-controlled Z gate, approximated by flipping all but one qubit and applying Z\n",
    "    state = apply_gate(state, np.diag([1, -1]), n_qubits, n_qubits - 1)\n",
    "\n",
    "    for qubit in range(n_qubits - 1):\n",
    "        state = apply_gate(state, X, n_qubits, qubit)\n",
    "\n",
    "    for qubit in range(n_qubits):\n",
    "        state = apply_gate(state, H, n_qubits, qubit)\n",
    "\n",
    "    return state\n",
    "\n",
    "def measure_state(state):\n",
    "    \"\"\"Measure the quantum state to find the most probable state.\"\"\"\n",
    "    probabilities = np.abs(state)**2\n",
    "    most_probable_state = np.unravel_index(np.argmax(probabilities), state.shape)\n",
    "    return most_probable_state\n",
    "\n",
    "# Number of qubits\n",
    "n_qubits = 2\n",
    "\n",
    "# Initialize the quantum state\n",
    "state = initialize_state(n_qubits)\n",
    "\n",
    "# Target state to search for (in decimal representation)\n",
    "target_state = 1  # Corresponds to the binary state '101'\n",
    "\n",
    "# Number of Grover iterations\n",
    "num_iterations = int(np.floor(np.pi / 4 * np.sqrt(2**n_qubits)))\n",
    "\n",
    "# Perform Grover iterations\n",
    "for _ in range(num_iterations):\n",
    "    state = apply_oracle(state, target_state)\n",
    "    state = apply_diffusion(state)\n",
    "\n",
    "# Measure the final state\n",
    "result = measure_state(state)\n",
    "result_bin = ''.join(map(str, result))\n",
    "print(\"Measurement result: \", result_bin)\n"
   ]
  },
  {
   "cell_type": "code",
   "execution_count": 370,
   "metadata": {},
   "outputs": [
    {
     "data": {
      "text/plain": [
       "array([[ 0.5,  0.5],\n",
       "       [-0.5,  0.5]])"
      ]
     },
     "execution_count": 370,
     "metadata": {},
     "output_type": "execute_result"
    }
   ],
   "source": [
    "state"
   ]
  },
  {
   "cell_type": "code",
   "execution_count": 328,
   "metadata": {},
   "outputs": [
    {
     "data": {
      "text/plain": [
       "(2, 2, 2)"
      ]
     },
     "execution_count": 328,
     "metadata": {},
     "output_type": "execute_result"
    }
   ],
   "source": [
    "state = initialize_state(n_qubits)\n"
   ]
  },
  {
   "cell_type": "code",
   "execution_count": 329,
   "metadata": {},
   "outputs": [
    {
     "data": {
      "text/plain": [
       "array([[[ 0.35355339,  0.35355339],\n",
       "        [ 0.35355339,  0.35355339]],\n",
       "\n",
       "       [[ 0.35355339, -0.35355339],\n",
       "        [ 0.35355339,  0.35355339]]])"
      ]
     },
     "execution_count": 329,
     "metadata": {},
     "output_type": "execute_result"
    }
   ],
   "source": [
    "apply_oracle(state, 5)"
   ]
  },
  {
   "cell_type": "code",
   "execution_count": 286,
   "metadata": {},
   "outputs": [
    {
     "name": "stdout",
     "output_type": "stream",
     "text": [
      "a: [0.70710678+0.j 0.70710678+0.j]\n",
      "b: [0.+0.j 1.+0.j]\n"
     ]
    },
    {
     "data": {
      "text/plain": [
       "array([0.        +0.j, 0.70710678+0.j, 0.        +0.j, 0.70710678+0.j])"
      ]
     },
     "execution_count": 286,
     "metadata": {},
     "output_type": "execute_result"
    }
   ],
   "source": [
    "q0 = np.array([1, 0], dtype=complex)\n",
    "q1 = np.array([1, 0], dtype=complex)\n",
    "\n",
    "I = np.array(\n",
    "    [\n",
    "        [1,0],\n",
    "        [0,1]\n",
    "    ],\n",
    "    dtype=complex\n",
    ")\n",
    "\n",
    "X = np.array(\n",
    "    [\n",
    "        [0,1],\n",
    "        [1,0]\n",
    "    ],\n",
    "    dtype=complex\n",
    ")\n",
    "\n",
    "H = 1/np.sqrt(2) * np.array(\n",
    "    [\n",
    "        [1,1],\n",
    "        [1,-1]\n",
    "    ],\n",
    "    dtype=complex\n",
    ")\n",
    "# |00> -> H0 -> X1\n",
    "\n",
    "a = H @ q0\n",
    "print('a:', a)\n",
    "\n",
    "b = X @ q1\n",
    "print('b:', b)\n",
    "\n",
    "\n",
    "np.kron(a,b)"
   ]
  },
  {
   "cell_type": "code",
   "execution_count": 322,
   "metadata": {},
   "outputs": [
    {
     "data": {
      "text/plain": [
       "array([ 0.5+0.j,  0.5+0.j,  0.5+0.j, -0.5+0.j])"
      ]
     },
     "execution_count": 322,
     "metadata": {},
     "output_type": "execute_result"
    }
   ],
   "source": [
    "a= np.tensordot(q0, H, axes=(0, 1)).reshape(2,1)\n",
    "b= np.tensordot(q0, H, axes=(0,1)).reshape(2,1)\n",
    "\n",
    "c = np.tensordot(a,b, axes=(1,1)).reshape(-1)\n",
    "\n",
    "# apply oracle\n",
    "c[-1] =  c[-1] * -1\n",
    "\n",
    "c"
   ]
  },
  {
   "cell_type": "code",
   "execution_count": 321,
   "metadata": {},
   "outputs": [],
   "source": []
  },
  {
   "cell_type": "code",
   "execution_count": 316,
   "metadata": {},
   "outputs": [],
   "source": [
    "def string2state(state: str) -> np.array:\n",
    "    qubits = []\n",
    "    for qubit in state:\n",
    "        if qubit == '0':\n",
    "            qubits.append(np.array([1, 0], dtype=complex))\n",
    "        if qubit == '1':\n",
    "            qubits.append(np.array([0, 1], dtype=complex))\n",
    "\n",
    "    result = qubits[0]\n",
    "\n",
    "    for i in range(1, len(qubits)):\n",
    "        result = np.kron(result, qubits[i])\n",
    "\n",
    "    return result\n",
    "\n",
    "\n",
    "o_state = string2state('11')\n"
   ]
  },
  {
   "cell_type": "code",
   "execution_count": 317,
   "metadata": {},
   "outputs": [
    {
     "name": "stdout",
     "output_type": "stream",
     "text": [
      "False\n",
      "False\n",
      "False\n",
      "True\n"
     ]
    }
   ],
   "source": [
    "for i in o_state:\n",
    "    print(i == 1)"
   ]
  },
  {
   "cell_type": "code",
   "execution_count": null,
   "metadata": {},
   "outputs": [],
   "source": [
    "np.tensordot"
   ]
  },
  {
   "cell_type": "code",
   "execution_count": 297,
   "metadata": {},
   "outputs": [
    {
     "data": {
      "text/plain": [
       "array([0.        +0.j, 0.70710678+0.j, 0.        +0.j, 0.70710678+0.j])"
      ]
     },
     "execution_count": 297,
     "metadata": {},
     "output_type": "execute_result"
    }
   ],
   "source": [
    "np.kron(a,b)"
   ]
  },
  {
   "cell_type": "markdown",
   "metadata": {},
   "source": [
    "# Diff between direct matrix multiplication and tensor networks"
   ]
  },
  {
   "cell_type": "code",
   "execution_count": 57,
   "metadata": {},
   "outputs": [
    {
     "name": "stdout",
     "output_type": "stream",
     "text": [
      "Original state vector (|psi>):\n",
      " [0.23656305+0.33878388j 0.02919052+0.0816522j  0.35002621+0.16469965j\n",
      " 0.02728614+0.36609154j 0.15338857+0.31260867j 0.16593072+0.27189393j\n",
      " 0.27528525+0.34073908j 0.34600488+0.05492129j]\n",
      "New state vector (|psi'>) after applying U:\n",
      " [ 0.20062623+0.31098263j  0.1085869 +0.12939018j  0.08366832-0.14559652j\n",
      " -0.10617285-0.31863287j -0.04690053-0.28283012j -0.53767042-0.1916873j\n",
      "  0.04651939-0.45969858j  0.26827004-0.0050968j ]\n"
     ]
    }
   ],
   "source": [
    "\n",
    "# Define a 3-qubit state vector |psi>\n",
    "n_qubits = 3\n",
    "# Parameters\n",
    "dim = 2 ** n_qubits\n",
    "psi = np.random.rand(dim) + 1j * np.random.rand(dim)  # Random complex state vector\n",
    "psi /= np.linalg.norm(psi)  # Normalize the state vector\n",
    "\n",
    "# Define a random 8x8 unitary matrix U\n",
    "U = np.random.rand(dim, dim) + 1j * np.random.rand(dim, dim)\n",
    "U, _ = np.linalg.qr(U)  # Make it unitary\n",
    "\n",
    "# Apply the gate to the state\n",
    "psi_prime = np.dot(U, psi)\n",
    "\n",
    "print(\"Original state vector (|psi>):\\n\", psi)\n",
    "print(\"New state vector (|psi'>) after applying U:\\n\", psi_prime)\n"
   ]
  },
  {
   "cell_type": "code",
   "execution_count": 129,
   "metadata": {},
   "outputs": [
    {
     "data": {
      "text/plain": [
       "array([[[0.77615957+0.53477418j, 0.8939057 +0.82676344j],\n",
       "        [0.54489424+0.33994098j, 0.42251417+0.03319409j]],\n",
       "\n",
       "       [[0.2183227 +0.02457661j, 0.82666194+0.04603414j],\n",
       "        [0.64704707+0.247914j  , 0.74238206+0.63089311j]]])"
      ]
     },
     "execution_count": 129,
     "metadata": {},
     "output_type": "execute_result"
    }
   ],
   "source": [
    "np.random.rand(bond_dim, 2, bond_dim) + 1j * np.random.rand(bond_dim, 2, bond_dim)"
   ]
  },
  {
   "cell_type": "code",
   "execution_count": 130,
   "metadata": {},
   "outputs": [
    {
     "data": {
      "text/plain": [
       "array([[0.407862  +0.76533463j, 0.06642752+0.32900599j],\n",
       "       [0.86972971+0.56881453j, 0.5411513 +0.86402142j]])"
      ]
     },
     "execution_count": 130,
     "metadata": {},
     "output_type": "execute_result"
    }
   ],
   "source": [
    "np.random.rand(bond_dim, 2) + 1j * np.random.rand(bond_dim, 2)"
   ]
  },
  {
   "cell_type": "code",
   "execution_count": 154,
   "metadata": {},
   "outputs": [
    {
     "name": "stdout",
     "output_type": "stream",
     "text": [
      "MPS representation of the state vector (|psi_mps>):\n",
      " [-1.10617237+0.00961269j -0.476956  +0.47312585j -0.63541992+0.57084795j\n",
      " -0.03431663+0.5176165j  -1.14002472+0.22161219j -0.40180297+0.57966736j\n",
      " -0.54667873+0.71086799j  0.0636329 +0.54088521j]\n"
     ]
    }
   ],
   "source": [
    "# Import necessary libraries\n",
    "import numpy as np\n",
    "\n",
    "# Define a function to create a random MPS representation for a 3-qubit state\n",
    "def create_random_mps(n_qubits, bond_dim):\n",
    "    # Initialize list to store MPS tensors\n",
    "    mps = []\n",
    "    # Create the first tensor (rank-1 tensor)\n",
    "    mps.append(np.random.rand(2, bond_dim) + 1j * np.random.rand(2, bond_dim))\n",
    "    # Create the middle tensors (rank-3 tensors)\n",
    "    for _ in range(1, n_qubits - 1):\n",
    "        mps.append(np.random.rand(bond_dim, 2, bond_dim) + 1j * np.random.rand(bond_dim, 2, bond_dim))\n",
    "    # Create the last tensor (rank-2 tensor)\n",
    "    mps.append(np.random.rand(bond_dim, 2) + 1j * np.random.rand(bond_dim, 2))\n",
    "    return mps\n",
    "\n",
    "# Define a function to reconstruct the state vector from the MPS\n",
    "def mps_to_state_vector(mps):\n",
    "    state_vector = mps[0]\n",
    "    for tensor in mps[1:]:\n",
    "        state_vector = np.tensordot(state_vector, tensor, axes=(-1, 0))\n",
    "    return state_vector.reshape(-1)\n",
    "\n",
    "\n",
    "# Create a random MPS\n",
    "mps = create_random_mps(n_qubits, 1)\n",
    "\n",
    "# Reconstruct the state vector from the MPS\n",
    "psi_mps = mps_to_state_vector(mps)\n",
    "\n",
    "print(\"MPS representation of the state vector (|psi_mps>):\\n\", psi_mps)\n"
   ]
  },
  {
   "cell_type": "code",
   "execution_count": 159,
   "metadata": {},
   "outputs": [
    {
     "data": {
      "text/plain": [
       "(8,)"
      ]
     },
     "execution_count": 159,
     "metadata": {},
     "output_type": "execute_result"
    }
   ],
   "source": [
    "psi_mps.shape"
   ]
  },
  {
   "cell_type": "code",
   "execution_count": 79,
   "metadata": {},
   "outputs": [
    {
     "data": {
      "text/plain": [
       "array([[0.24835837+0.65763248j, 0.94471215+0.40884161j],\n",
       "       [0.64321282+0.24786358j, 0.25157088+0.57166541j]])"
      ]
     },
     "execution_count": 79,
     "metadata": {},
     "output_type": "execute_result"
    }
   ],
   "source": [
    "mps[2]"
   ]
  },
  {
   "cell_type": "code",
   "execution_count": 134,
   "metadata": {},
   "outputs": [
    {
     "name": "stdout",
     "output_type": "stream",
     "text": [
      "Reconstructed state vector from MPS:\n",
      " [0.70710678+0.j 0.        +0.j 0.        +0.j 0.        +0.j\n",
      " 0.        +0.j 0.        +0.j 0.        +0.j 0.70710678+0.j]\n",
      "Expected state vector:\n",
      " [0.70710678+0.j 0.        +0.j 0.        +0.j 0.        +0.j\n",
      " 0.        +0.j 0.        +0.j 0.        +0.j 0.70710678+0.j]\n"
     ]
    }
   ],
   "source": [
    "import numpy as np\n",
    "\n",
    "# Define the MPS tensors\n",
    "A1 = np.array([[1, 0], [0, 1]], dtype=complex)  # Shape (2, 2)\n",
    "A2 = np.zeros((2, 2, 2), dtype=complex)         # Shape (2, 2, 2)\n",
    "A2[:, :, 0] = np.array([[1, 0], [0, 0]])\n",
    "A2[:, :, 1] = np.array([[0, 0], [0, 1]])\n",
    "A3 = np.array([[1, 0], [0, 1]], dtype=complex)  # Shape (2, 2)\n",
    "\n",
    "# List of tensors forming the MPS\n",
    "mps = [A1, A2, A3]\n",
    "\n",
    "# Function to reconstruct the state vector from the MPS tensors\n",
    "def mps_to_state_vector(mps):\n",
    "    state_vector = mps[0]\n",
    "    for tensor in mps[1:]:\n",
    "        state_vector = np.tensordot(state_vector, tensor, axes=(-1, 0))\n",
    "    return state_vector.reshape(-1)\n",
    "\n",
    "# Reconstruct the state vector from the MPS\n",
    "psi_mps = mps_to_state_vector(mps)\n",
    "\n",
    "# Normalize the state vector\n",
    "psi_mps /= np.linalg.norm(psi_mps)\n",
    "\n",
    "print(\"Reconstructed state vector from MPS:\\n\", psi_mps)\n",
    "print(\"Expected state vector:\\n\", np.array([1, 0, 0, 0, 0, 0, 0, 1], dtype=complex) / np.sqrt(2))\n"
   ]
  },
  {
   "cell_type": "code",
   "execution_count": 218,
   "metadata": {},
   "outputs": [
    {
     "name": "stdout",
     "output_type": "stream",
     "text": [
      "Reconstructed state vector from MPS:\n",
      " [0.70710678+0.j 0.        +0.j 0.        +0.j 0.        +0.j\n",
      " 0.        +0.j 0.        +0.j 0.        +0.j 0.        +0.j\n",
      " 0.        +0.j 0.        +0.j 0.        +0.j 0.        +0.j\n",
      " 0.        +0.j 0.        +0.j 0.        +0.j 0.70710678+0.j]\n",
      "Expected state vector:\n",
      " [0.70710678+0.j 0.        +0.j 0.        +0.j 0.        +0.j\n",
      " 0.        +0.j 0.        +0.j 0.        +0.j 0.        +0.j\n",
      " 0.        +0.j 0.        +0.j 0.        +0.j 0.        +0.j\n",
      " 0.        +0.j 0.        +0.j 0.        +0.j 0.70710678+0.j]\n"
     ]
    }
   ],
   "source": [
    "# Define the MPS tensors\n",
    "A1 = np.array([[1, 0], [0, 1]], dtype=complex)  # Shape (2, 2)\n",
    "A2 = np.zeros((2, 2, 2), dtype=complex)         # Shape (2, 2, 2)\n",
    "A2[:, :, 0] = np.array([[1, 0], [0, 0]])\n",
    "A2[:, :, 1] = np.array([[0, 0], [0, 1]])\n",
    "A3 = np.zeros((2, 2, 2), dtype=complex)         # Shape (2, 2, 2)\n",
    "A3[:, :, 0] = np.array([[1, 0], [0, 0]])\n",
    "A3[:, :, 1] = np.array([[0, 0], [0, 1]])\n",
    "A4 = np.array([[1, 0], [0, 1]], dtype=complex)  # Shape (2, 2)\n",
    "\n",
    "# List of tensors forming the MPS\n",
    "mps = [A1, A2, A3, A4]\n",
    "\n",
    "# Function to reconstruct the state vector from the MPS tensors\n",
    "def mps_to_state_vector(mps):\n",
    "    state_vector = mps[0]\n",
    "    for tensor in mps[1:]:\n",
    "        state_vector = np.tensordot(state_vector, tensor, axes=(-1, 0))\n",
    "    return state_vector.reshape(-1)\n",
    "\n",
    "# Reconstruct the state vector from the MPS\n",
    "psi_mps = mps_to_state_vector(mps)\n",
    "\n",
    "# Normalize the state vector\n",
    "psi_mps /= np.linalg.norm(psi_mps)\n",
    "\n",
    "print(\"Reconstructed state vector from MPS:\\n\", psi_mps)\n",
    "print(\"Expected state vector:\\n\", np.array([1, 0, 0, 0, 0, 0, 0, 0, 0, 0, 0, 0, 0, 0, 0, 1], dtype=complex) / np.sqrt(2))\n"
   ]
  },
  {
   "cell_type": "code",
   "execution_count": 237,
   "metadata": {},
   "outputs": [
    {
     "data": {
      "text/plain": [
       "array([[0.+0.j, 0.+0.j],\n",
       "       [0.+0.j, 0.+0.j]])"
      ]
     },
     "execution_count": 237,
     "metadata": {},
     "output_type": "execute_result"
    }
   ],
   "source": [
    "(A2[-1] @ A3[0])"
   ]
  },
  {
   "cell_type": "code",
   "execution_count": 235,
   "metadata": {},
   "outputs": [
    {
     "data": {
      "text/plain": [
       "array([[[[1.+0.j, 0.+0.j],\n",
       "         [0.+0.j, 0.+0.j]],\n",
       "\n",
       "        [[0.+0.j, 0.+0.j],\n",
       "         [0.+0.j, 0.+0.j]]],\n",
       "\n",
       "\n",
       "       [[[0.+0.j, 0.+0.j],\n",
       "         [0.+0.j, 0.+0.j]],\n",
       "\n",
       "        [[0.+0.j, 0.+0.j],\n",
       "         [0.+0.j, 1.+0.j]]]])"
      ]
     },
     "execution_count": 235,
     "metadata": {},
     "output_type": "execute_result"
    }
   ],
   "source": [
    "np.tensordot(A2, A3, axes=(-1,0))"
   ]
  },
  {
   "cell_type": "code",
   "execution_count": 259,
   "metadata": {},
   "outputs": [
    {
     "ename": "ValueError",
     "evalue": "cannot reshape array of size 2 into shape (2,2,1)",
     "output_type": "error",
     "traceback": [
      "\u001b[0;31m---------------------------------------------------------------------------\u001b[0m",
      "\u001b[0;31mValueError\u001b[0m                                Traceback (most recent call last)",
      "Cell \u001b[0;32mIn[259], line 20\u001b[0m\n\u001b[1;32m     16\u001b[0m CNOT \u001b[38;5;241m=\u001b[39m np\u001b[38;5;241m.\u001b[39marray([[[[\u001b[38;5;241m1\u001b[39m, \u001b[38;5;241m0\u001b[39m], [\u001b[38;5;241m0\u001b[39m, \u001b[38;5;241m0\u001b[39m]], [[\u001b[38;5;241m0\u001b[39m, \u001b[38;5;241m0\u001b[39m], [\u001b[38;5;241m0\u001b[39m, \u001b[38;5;241m1\u001b[39m]]],\n\u001b[1;32m     17\u001b[0m                  [[[\u001b[38;5;241m0\u001b[39m, \u001b[38;5;241m0\u001b[39m], [\u001b[38;5;241m1\u001b[39m, \u001b[38;5;241m0\u001b[39m]], [[\u001b[38;5;241m0\u001b[39m, \u001b[38;5;241m1\u001b[39m], [\u001b[38;5;241m0\u001b[39m, \u001b[38;5;241m0\u001b[39m]]]], dtype\u001b[38;5;241m=\u001b[39m\u001b[38;5;28mcomplex\u001b[39m)\n\u001b[1;32m     19\u001b[0m \u001b[38;5;66;03m# Reshape A1 to be compatible with the CNOT operation\u001b[39;00m\n\u001b[0;32m---> 20\u001b[0m A1 \u001b[38;5;241m=\u001b[39m \u001b[43mA1\u001b[49m\u001b[38;5;241;43m.\u001b[39;49m\u001b[43mreshape\u001b[49m\u001b[43m(\u001b[49m\u001b[38;5;241;43m2\u001b[39;49m\u001b[43m,\u001b[49m\u001b[43m \u001b[49m\u001b[38;5;241;43m2\u001b[39;49m\u001b[43m,\u001b[49m\u001b[43m \u001b[49m\u001b[38;5;241;43m1\u001b[39;49m\u001b[43m)\u001b[49m\n\u001b[1;32m     22\u001b[0m \u001b[38;5;66;03m# Apply the CNOT gate\u001b[39;00m\n\u001b[1;32m     23\u001b[0m A2 \u001b[38;5;241m=\u001b[39m np\u001b[38;5;241m.\u001b[39mtensordot(CNOT, A2, axes\u001b[38;5;241m=\u001b[39m([\u001b[38;5;241m2\u001b[39m, \u001b[38;5;241m3\u001b[39m], [\u001b[38;5;241m1\u001b[39m, \u001b[38;5;241m0\u001b[39m]))  \u001b[38;5;66;03m# Shape (2, 2, 2)\u001b[39;00m\n",
      "\u001b[0;31mValueError\u001b[0m: cannot reshape array of size 2 into shape (2,2,1)"
     ]
    }
   ],
   "source": [
    "import numpy as np\n",
    "\n",
    "# Initialize the MPS tensors for |00>\n",
    "# First qubit tensor: encoding |0>\n",
    "A1 = np.array([[1], [0]], dtype=complex)  # Shape (2, 1)\n",
    "\n",
    "# Second qubit tensor: encoding |0>\n",
    "A2 = np.array([[[1, 0]]], dtype=complex)  # Shape (1, 2, 1)\n",
    "\n",
    "# Apply Hadamard gate to the first qubit\n",
    "H = np.array([[1, 1], [1, -1]], dtype=complex) / np.sqrt(2)\n",
    "A1 = np.tensordot(H, A1, axes=(1, 0))  # Shape (2, 2)\n",
    "\n",
    "# Apply CNOT gate from qubit 0 to qubit 1\n",
    "# CNOT gate in tensor form\n",
    "CNOT = np.array([[[[1, 0], [0, 0]], [[0, 0], [0, 1]]],\n",
    "                 [[[0, 0], [1, 0]], [[0, 1], [0, 0]]]], dtype=complex)\n",
    "\n",
    "# Reshape A1 to be compatible with the CNOT operation\n",
    "A1 = A1.reshape(2, 2, 1)\n",
    "\n",
    "# Apply the CNOT gate\n",
    "A2 = np.tensordot(CNOT, A2, axes=([2, 3], [1, 0]))  # Shape (2, 2, 2)\n",
    "\n",
    "# Reorder dimensions of A2 to fit MPS structure\n",
    "A2 = A2.transpose(0, 1, 2)\n",
    "\n",
    "# List of tensors forming the MPS\n",
    "mps = [A1, A2]\n",
    "\n",
    "# Function to reconstruct the state vector from MPS tensors\n",
    "def mps_to_state_vector(mps):\n",
    "    state_vector = mps[0]\n",
    "    for tensor in mps[1:]:\n",
    "        state_vector = np.tensordot(state_vector, tensor, axes=(-1, 0))\n",
    "    return state_vector.reshape(-1)\n",
    "\n",
    "# Reconstruct the state vector from the MPS\n",
    "psi_mps = mps_to_state_vector(mps)\n",
    "\n",
    "# Normalize the state vector\n",
    "psi_mps /= np.linalg.norm(psi_mps)\n",
    "\n",
    "print(\"Reconstructed state vector from MPS:\\n\", psi_mps)\n",
    "expected_state = np.array([1/np.sqrt(2), 0, 0, 1/np.sqrt(2)], dtype=complex)\n",
    "print(\"Expected state vector:\\n\", expected_state)\n"
   ]
  },
  {
   "cell_type": "code",
   "execution_count": 264,
   "metadata": {},
   "outputs": [
    {
     "name": "stdout",
     "output_type": "stream",
     "text": [
      "[[0.70710678+0.j 0.        +0.j]\n",
      " [0.        +0.j 0.70710678+0.j]]\n"
     ]
    }
   ],
   "source": [
    "def apply_gate(qubit_edges, gate, operating_qubits):\n",
    "  op = tn.Node(gate)\n",
    "  for i, bit in enumerate(operating_qubits):\n",
    "    tn.connect(qubit_edges[bit], op[i])\n",
    "    qubit_edges[bit] = op[i + len(operating_qubits)]\n",
    "\n",
    "# These are just numpy arrays of the operators.\n",
    "H = np.array([[1, 1], [1, -1]], dtype=complex) / np.sqrt(2)\n",
    "CNOT = np.zeros((2, 2, 2, 2), dtype=complex)\n",
    "CNOT[0][0][0][0] = 1\n",
    "CNOT[0][1][0][1] = 1\n",
    "CNOT[1][0][1][1] = 1\n",
    "CNOT[1][1][1][0] = 1\n",
    "all_nodes = []\n",
    "# NodeCollection allows us to store all of the nodes created under this context.\n",
    "with tn.NodeCollection(all_nodes):\n",
    "  state_nodes = [\n",
    "      tn.Node(np.array([1.0 + 0.0j, 0.0 + 0.0j],)) for _ in range(2)\n",
    "  ]\n",
    "  qubits = [node[0] for node in state_nodes]\n",
    "  apply_gate(qubits, H, [0])\n",
    "  apply_gate(qubits, CNOT, [0, 1])\n",
    "# We can contract the entire tensornetwork easily with a contractor algorithm\n",
    "result = tn.contractors.optimal(\n",
    "    all_nodes, output_edge_order=qubits)\n",
    "print(result.tensor) # array([0.707+0.j, 0.0+0.j], [0.0+0.j, 0.707+0.j])"
   ]
  },
  {
   "cell_type": "code",
   "execution_count": 274,
   "metadata": {},
   "outputs": [
    {
     "data": {
      "text/plain": [
       "\n",
       "Edge(Dangling Edge)[0] "
      ]
     },
     "execution_count": 274,
     "metadata": {},
     "output_type": "execute_result"
    }
   ],
   "source": [
    "qubits[0]"
   ]
  },
  {
   "cell_type": "code",
   "execution_count": 258,
   "metadata": {},
   "outputs": [
    {
     "data": {
      "text/plain": [
       "array([0.        +0.j, 0.70710678+0.j, 0.        +0.j, 0.70710678+0.j])"
      ]
     },
     "execution_count": 258,
     "metadata": {},
     "output_type": "execute_result"
    }
   ],
   "source": [
    "psi_mps"
   ]
  },
  {
   "cell_type": "code",
   "execution_count": 147,
   "metadata": {},
   "outputs": [
    {
     "data": {
      "image/png": "[encoded data removed]",
      "text/plain": [
       "<Figure size 640x480 with 1 Axes>"
      ]
     },
     "metadata": {},
     "output_type": "display_data"
    }
   ],
   "source": [
    "def create_tensor(dimension, rank):\n",
    "  '''Constructs a tensor of a given rank with random integers'''\n",
    "  dim_list = tuple([dimension for _ in range(rank)])\n",
    "  return np.random.random_sample(dim_list)\n",
    "\n",
    "ranks = range(2,6)\n",
    "dimensions = range(2,40)\n",
    "\n",
    "for rank in ranks:\n",
    "  memory = []\n",
    "  for dim in dimensions:\n",
    "      tensor = create_tensor(dim, rank)\n",
    "      component = tuple(np.random.randint(0, dim, rank))\n",
    "      memory.append(np.sum([x.nbytes for x in tensor]))\n",
    "      data = tensor[component]\n",
    "  plt.loglog(dimensions, memory,'o',ls=':', label = f'N = {rank}')\n",
    "\n",
    "plt.legend()\n",
    "plt.xlabel('Dimension')\n",
    "plt.ylabel('Memory cost')\n",
    "plt.show()"
   ]
  },
  {
   "cell_type": "code",
   "execution_count": 163,
   "metadata": {},
   "outputs": [],
   "source": [
    "# Retrieving a component\n",
    "\n",
    "def block(*dimensions):\n",
    "    '''Construct a new matrix for the MPS with random numbers from 0 to 1'''\n",
    "    size = tuple([x for x in dimensions])\n",
    "    return np.random.random_sample(size)\n",
    "\n",
    "def create_MPS(rank, dim, bond_dim):\n",
    "    '''Build the MPS tensor'''\n",
    "    mps = [\n",
    "        tn.Node( block(dim, bond_dim) )] \\\n",
    "    +[tn.Node( block(bond_dim, dim, bond_dim)) for _ in range(rank-2)] + \\\n",
    "        [tn.Node( block(bond_dim, dim) )\n",
    "        ]\n",
    "\n",
    "    #connect edges to build mps\n",
    "    connected_edges=[]\n",
    "    conn=mps[0][1]^mps[1][0]\n",
    "    connected_edges.append(conn)\n",
    "    for k in range(1,rank-1):\n",
    "        conn=mps[k][2]^mps[k+1][0]\n",
    "        connected_edges.append(conn)\n",
    "\n",
    "    return mps, connected_edges"
   ]
  },
  {
   "cell_type": "code",
   "execution_count": 165,
   "metadata": {},
   "outputs": [
    {
     "data": {
      "image/png": "[encoded data removed]",
      "text/plain": [
       "<Figure size 640x480 with 1 Axes>"
      ]
     },
     "metadata": {},
     "output_type": "display_data"
    }
   ],
   "source": [
    "dimensions = range(2,9,2)\n",
    "MPS_ranks = range(2,150)\n",
    "MPS_memory = []\n",
    "\n",
    "for dim in dimensions:\n",
    "    bond_dim = 2\n",
    "    MPS_memory = []\n",
    "    for i in range(len(MPS_ranks)):\n",
    "        rank = MPS_ranks[i]\n",
    "\n",
    "        # Creating the MPS state:\n",
    "        ##################################################################\n",
    "        mps_nodes, mps_edges = create_MPS(rank, dim, bond_dim)\n",
    "        MPS_memory.append(np.sum([x.tensor.nbytes for x in mps_nodes]))\n",
    "\n",
    "    # Plot Results\n",
    "    plt.loglog(MPS_ranks, MPS_memory, 'o',ls=':', label = f'd = {dim}')\n",
    "\n",
    "plt.legend()\n",
    "plt.xlabel('Tensor Rank')\n",
    "plt.ylabel('MPS memory')\n",
    "\n",
    "plt.show()"
   ]
  },
  {
   "cell_type": "code",
   "execution_count": 179,
   "metadata": {},
   "outputs": [
    {
     "data": {
      "text/plain": [
       "(8, 2)"
      ]
     },
     "execution_count": 179,
     "metadata": {},
     "output_type": "execute_result"
    }
   ],
   "source": [
    "mps_nodes[0].tensor.shape"
   ]
  },
  {
   "cell_type": "code",
   "execution_count": 153,
   "metadata": {},
   "outputs": [
    {
     "data": {
      "text/plain": [
       "Node\n",
       "(\n",
       "name : '__unnamed_node__',\n",
       "tensor : \n",
       "array([[0.90999135, 0.86391065],\n",
       "       [0.53113305, 0.12459112],\n",
       "       [0.719546  , 0.77002917],\n",
       "       [0.90259764, 0.32934341],\n",
       "       [0.71547161, 0.55855891],\n",
       "       [0.36522339, 0.62434129],\n",
       "       [0.16874696, 0.05981373],\n",
       "       [0.26494073, 0.81680409]]),\n",
       "edges : \n",
       "[\n",
       "Edge(Dangling Edge)[0] \n",
       ", \n",
       "Edge('__unnamed_node__'[1] -> '__unnamed_node__'[0] )\n",
       "] \n",
       ")"
      ]
     },
     "execution_count": 153,
     "metadata": {},
     "output_type": "execute_result"
    }
   ],
   "source": [
    "mps_nodes[0]"
   ]
  },
  {
   "cell_type": "code",
   "execution_count": 33,
   "metadata": {},
   "outputs": [],
   "source": [
    "def decimal_to_binary(num: int) -> str:\n",
    "    return str(bin(num))[2:]\n",
    "\n",
    "def pad_binary(binary_str: str, length: int) -> str:\n",
    "    return '0'*(length-len(binary_str)) + binary_str"
   ]
  },
  {
   "cell_type": "code",
   "execution_count": 38,
   "metadata": {},
   "outputs": [
    {
     "name": "stdout",
     "output_type": "stream",
     "text": [
      "0000\n",
      "0001\n",
      "0010\n",
      "0011\n",
      "0100\n",
      "0101\n",
      "0110\n",
      "0111\n",
      "1000\n",
      "1001\n",
      "1010\n",
      "1011\n",
      "1100\n",
      "1101\n",
      "1110\n",
      "1111\n"
     ]
    }
   ],
   "source": [
    "n = 4\n",
    "N = 2**n\n",
    "for i in range(N):\n",
    "    print(pad_binary(decimal_to_binary(i), n))"
   ]
  },
  {
   "cell_type": "code",
   "execution_count": 17,
   "metadata": {},
   "outputs": [
    {
     "data": {
      "text/plain": [
       "1.0"
      ]
     },
     "execution_count": 17,
     "metadata": {},
     "output_type": "execute_result"
    }
   ],
   "source": [
    "2 / 2**1"
   ]
  },
  {
   "cell_type": "code",
   "execution_count": 5,
   "metadata": {},
   "outputs": [
    {
     "data": {
      "text/plain": [
       "array([1.+0.j, 0.+0.j])"
      ]
     },
     "execution_count": 5,
     "metadata": {},
     "output_type": "execute_result"
    }
   ],
   "source": [
    "a = np.array([1.0 + 0.0j, 0.0 + 0.0j])\n",
    "b = np.array([0.0 + 0.0j, 1.0 + 0.0j])\n",
    "\n",
    "h = np.array([[1, 1], [1, -1]]) / np.sqrt(2)\n",
    "I = np.array([[1, 0], [0, 1]])\n",
    "\n",
    "a @ h @ h"
   ]
  },
  {
   "cell_type": "code",
   "execution_count": 10,
   "metadata": {},
   "outputs": [
    {
     "data": {
      "text/plain": [
       "array([ 0.70710678+0.j, -0.70710678+0.j,  0.        +0.j,  0.        +0.j])"
      ]
     },
     "execution_count": 10,
     "metadata": {},
     "output_type": "execute_result"
    }
   ],
   "source": [
    "u = np.kron(I, h)\n",
    "c = np.kron(a, b)\n",
    "\n",
    "\n",
    "u@c"
   ]
  },
  {
   "cell_type": "code",
   "execution_count": 12,
   "metadata": {},
   "outputs": [
    {
     "data": {
      "text/plain": [
       "array([[ 0.70710678,  0.70710678,  0.        ,  0.        ],\n",
       "       [ 0.70710678, -0.70710678,  0.        , -0.        ],\n",
       "       [ 0.        ,  0.        ,  0.70710678,  0.70710678],\n",
       "       [ 0.        , -0.        ,  0.70710678, -0.70710678]])"
      ]
     },
     "execution_count": 12,
     "metadata": {},
     "output_type": "execute_result"
    }
   ],
   "source": [
    "u"
   ]
  },
  {
   "cell_type": "code",
   "execution_count": 180,
   "metadata": {},
   "outputs": [
    {
     "name": "stdout",
     "output_type": "stream",
     "text": [
      "[0.70710678+0.j 0.70710678+0.j]\n"
     ]
    }
   ],
   "source": [
    "state = tn.Node(np.array([1.0 + 0.0j, 0.0 + 0.0j]))\n",
    "qubit_in = state[0]\n",
    "\n",
    "# This node represents the Hadamard gate we wish to perform\n",
    "# on this qubit.\n",
    "hadamard = tn.Node(np.array([[1, 1], [1, -1]])) / np.sqrt(2)\n",
    "tn.connect(qubit_in, hadamard[0]) # Equal to qubit ^ hadamard[0]\n",
    "# The \"output edge\" of the operation represents the qubit after\n",
    "#  applying the operation.\n",
    "qubit_out = hadamard[1]\n",
    "# Contraction is how you actually \"apply\" the gate.\n",
    "state2 = state @ hadamard\n",
    "print(state2.tensor) # array([0.707+0.j, 0.707+0.j])"
   ]
  },
  {
   "cell_type": "code",
   "execution_count": 200,
   "metadata": {},
   "outputs": [
    {
     "data": {
      "text/plain": [
       "\n",
       "Edge(Dangling Edge)[1] "
      ]
     },
     "execution_count": 200,
     "metadata": {},
     "output_type": "execute_result"
    }
   ],
   "source": [
    "hadamard[1]"
   ]
  },
  {
   "cell_type": "code",
   "execution_count": null,
   "metadata": {},
   "outputs": [],
   "source": [
    "np.tensordot"
   ]
  },
  {
   "cell_type": "code",
   "execution_count": 79,
   "metadata": {},
   "outputs": [
    {
     "name": "stdout",
     "output_type": "stream",
     "text": [
      "[[0.70710678+0.j 0.        +0.j]\n",
      " [0.        +0.j 0.70710678+0.j]]\n"
     ]
    }
   ],
   "source": [
    "def apply_gate(qubit_edges, gate, operating_qubits):\n",
    "  op = tn.Node(gate)\n",
    "  for i, bit in enumerate(operating_qubits):\n",
    "    tn.connect(qubit_edges[bit], op[i])\n",
    "    qubit_edges[bit] = op[i + len(operating_qubits)]\n",
    "\n",
    "# These are just numpy arrays of the operators.\n",
    "H = np.array([[1, 1], [1, -1]], dtype=complex) / np.sqrt(2)\n",
    "CNOT = np.zeros((2, 2, 2, 2), dtype=complex)\n",
    "CNOT[0][0][0][0] = 1\n",
    "CNOT[0][1][0][1] = 1\n",
    "CNOT[1][0][1][1] = 1\n",
    "CNOT[1][1][1][0] = 1\n",
    "all_nodes = []\n",
    "# NodeCollection allows us to store all of the nodes created under this context.\n",
    "with tn.NodeCollection(all_nodes):\n",
    "  state_nodes = [\n",
    "      tn.Node(np.array([1.0 + 0.0j, 0.0 + 0.0j],)) for _ in range(2)\n",
    "  ]\n",
    "  qubits = [node[0] for node in state_nodes]\n",
    "  apply_gate(qubits, H, [0])\n",
    "  apply_gate(qubits, CNOT, [0, 1])\n",
    "# We can contract the entire tensornetwork easily with a contractor algorithm\n",
    "result = tn.contractors.optimal(\n",
    "    all_nodes, output_edge_order=qubits)\n",
    "print(result.tensor) # array([0.707+0.j, 0.0+0.j], [0.0+0.j, 0.707+0.j])"
   ]
  },
  {
   "cell_type": "code",
   "execution_count": 73,
   "metadata": {},
   "outputs": [
    {
     "name": "stdout",
     "output_type": "stream",
     "text": [
      "Contracted Node details:\n",
      "Tensor shape: (2,)\n",
      "Edges: []\n",
      "Connections: []\n",
      "Tensor data:\n",
      " [1.+0.j 0.+0.j]\n",
      "\n"
     ]
    }
   ],
   "source": [
    "import numpy as np\n",
    "\n",
    "class Node:\n",
    "    def __init__(self, tensor, edges):\n",
    "        self.tensor = tensor\n",
    "        self.edges = edges\n",
    "        self.connections = []  # List to store connections with other nodes\n",
    "\n",
    "    def contract(self, other, self_axis, other_axis):\n",
    "        result_tensor = np.tensordot(self.tensor, other.tensor, axes=([self_axis], [other_axis]))\n",
    "        new_edges = [edge for i, edge in enumerate(self.edges) if i != self_axis] + \\\n",
    "                    [edge for i, edge in enumerate(other.edges) if i != other_axis]\n",
    "        return Node(result_tensor, new_edges)\n",
    "\n",
    "    def connect(self, other, self_axis, other_axis):\n",
    "        self.connections.append((other, self_axis, other_axis))\n",
    "        other.connections.append((self, other_axis, self_axis))\n",
    "\n",
    "    def print_details(self):\n",
    "        print(\"Tensor shape:\", self.tensor.shape)\n",
    "        print(\"Edges:\", self.edges)\n",
    "        print(\"Connections:\", [(id(node[0]), node[1], node[2]) for node in self.connections])\n",
    "        print(\"Tensor data:\\n\", self.tensor)\n",
    "        print()\n",
    "\n",
    "# Example of usage\n",
    "if __name__ == \"__main__\":\n",
    "    a = np.array([1.0 + 0.0j, 0.0 + 0.0j])\n",
    "    h = np.array([[1, 1], [1, -1]]) / np.sqrt(2)\n",
    "    # B = np.array([[1, 1], [1, -1]]) / np.sqrt(2)\n",
    "\n",
    "    node_A = Node(a, ['n'])\n",
    "    node_B = Node(h, ['n', 'p'])\n",
    "    node_C = Node(h, ['p'])\n",
    "\n",
    "\n",
    "    # Connect Node A and Node B over specified axes without contracting\n",
    "    node_A.connect(node_B, 0, 0)\n",
    "\n",
    "\n",
    "    # Now contract A and B using the connection info\n",
    "    connection_info = node_A.connections[0]\n",
    "    contracted_node = node_A.contract(*connection_info)\n",
    "\n",
    "    contracted_node.connect(node_C, 0, 0)\n",
    "    connection_info = contracted_node.connections[0]\n",
    "    contracted_node2 = contracted_node.contract(*connection_info)\n",
    "\n",
    "    print(\"Contracted Node details:\")\n",
    "    contracted_node2.print_details()\n"
   ]
  },
  {
   "cell_type": "code",
   "execution_count": 70,
   "metadata": {},
   "outputs": [
    {
     "name": "stdout",
     "output_type": "stream",
     "text": [
      "Tensor shape: (2,)\n",
      "Edges: ['p']\n",
      "Connections: [(137361448035040, 1, 0)]\n",
      "Tensor data:\n",
      " [0.70710678+0.j 0.70710678+0.j]\n",
      "\n"
     ]
    }
   ],
   "source": [
    "contracted_node."
   ]
  },
  {
   "cell_type": "code",
   "execution_count": 63,
   "metadata": {},
   "outputs": [
    {
     "name": "stdout",
     "output_type": "stream",
     "text": [
      "Tensor shape: (2,)\n",
      "Edges: ['n', 'p']\n",
      "Connections: []\n",
      "Tensor data:\n",
      " [0.70710678+0.j 0.70710678+0.j]\n",
      "\n",
      "Tensor shape: (2,)\n",
      "Edges: ['m', 'n']\n",
      "Connections: [(137361447929264, 0, 0)]\n",
      "Tensor data:\n",
      " [1.+0.j 0.+0.j]\n",
      "\n",
      "Tensor shape: (2, 2)\n",
      "Edges: ['n', 'p']\n",
      "Connections: [(137361447927920, 0, 0)]\n",
      "Tensor data:\n",
      " [[ 0.70710678  0.70710678]\n",
      " [ 0.70710678 -0.70710678]]\n",
      "\n"
     ]
    }
   ],
   "source": [
    "contracted_node.print_details()\n",
    "node_A.print_details()\n",
    "node_B.print_details()"
   ]
  }
 ],
 "metadata": {
  "kernelspec": {
   "display_name": "graph",
   "language": "python",
   "name": "python3"
  },
  "language_info": {
   "codemirror_mode": {
    "name": "ipython",
    "version": 3
   },
   "file_extension": ".py",
   "mimetype": "text/x-python",
   "name": "python",
   "nbconvert_exporter": "python",
   "pygments_lexer": "ipython3",
   "version": "3.8.13"
  }
 },
 "nbformat": 4,
 "nbformat_minor": 2
}
