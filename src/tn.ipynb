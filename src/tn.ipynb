{
 "cells": [
  {
   "cell_type": "code",
   "execution_count": 1,
   "metadata": {},
   "outputs": [],
   "source": [
    "import tensornetwork as tn\n",
    "import numpy as np"
   ]
  },
  {
   "cell_type": "code",
   "execution_count": 33,
   "metadata": {},
   "outputs": [],
   "source": [
    "def decimal_to_binary(num: int) -> str:\n",
    "    return str(bin(num))[2:]\n",
    "\n",
    "def pad_binary(binary_str: str, length: int) -> str:\n",
    "    return '0'*(length-len(binary_str)) + binary_str"
   ]
  },
  {
   "cell_type": "code",
   "execution_count": 37,
   "metadata": {},
   "outputs": [
    {
     "name": "stdout",
     "output_type": "stream",
     "text": [
      "0000\n",
      "0001\n",
      "0010\n",
      "0011\n"
     ]
    }
   ],
   "source": [
    "n = 4\n",
    "N = 2**n\n",
    "for i in range(N):\n",
    "    print(pad_binary(decimal_to_binary(i), n))"
   ]
  },
  {
   "cell_type": "code",
   "execution_count": 17,
   "metadata": {},
   "outputs": [
    {
     "data": {
      "text/plain": [
       "1.0"
      ]
     },
     "execution_count": 17,
     "metadata": {},
     "output_type": "execute_result"
    }
   ],
   "source": [
    "2 / 2**1"
   ]
  },
  {
   "cell_type": "code",
   "execution_count": 5,
   "metadata": {},
   "outputs": [
    {
     "data": {
      "text/plain": [
       "array([1.+0.j, 0.+0.j])"
      ]
     },
     "execution_count": 5,
     "metadata": {},
     "output_type": "execute_result"
    }
   ],
   "source": [
    "a = np.array([1.0 + 0.0j, 0.0 + 0.0j])\n",
    "b = np.array([0.0 + 0.0j, 1.0 + 0.0j])\n",
    "\n",
    "h = np.array([[1, 1], [1, -1]]) / np.sqrt(2)\n",
    "I = np.array([[1, 0], [0, 1]])\n",
    "\n",
    "a @ h @ h"
   ]
  },
  {
   "cell_type": "code",
   "execution_count": 10,
   "metadata": {},
   "outputs": [
    {
     "data": {
      "text/plain": [
       "array([ 0.70710678+0.j, -0.70710678+0.j,  0.        +0.j,  0.        +0.j])"
      ]
     },
     "execution_count": 10,
     "metadata": {},
     "output_type": "execute_result"
    }
   ],
   "source": [
    "u = np.kron(I, h)\n",
    "c = np.kron(a, b)\n",
    "\n",
    "\n",
    "u@c"
   ]
  },
  {
   "cell_type": "code",
   "execution_count": 12,
   "metadata": {},
   "outputs": [
    {
     "data": {
      "text/plain": [
       "array([[ 0.70710678,  0.70710678,  0.        ,  0.        ],\n",
       "       [ 0.70710678, -0.70710678,  0.        , -0.        ],\n",
       "       [ 0.        ,  0.        ,  0.70710678,  0.70710678],\n",
       "       [ 0.        , -0.        ,  0.70710678, -0.70710678]])"
      ]
     },
     "execution_count": 12,
     "metadata": {},
     "output_type": "execute_result"
    }
   ],
   "source": [
    "u"
   ]
  },
  {
   "cell_type": "code",
   "execution_count": 78,
   "metadata": {},
   "outputs": [
    {
     "name": "stdout",
     "output_type": "stream",
     "text": [
      "[0.70710678+0.j 0.70710678+0.j]\n"
     ]
    }
   ],
   "source": [
    "state = tn.Node(np.array([1.0 + 0.0j, 0.0 + 0.0j]))\n",
    "qubit_in = state[0]\n",
    "\n",
    "# This node represents the Hadamard gate we wish to perform\n",
    "# on this qubit.\n",
    "hadamard = tn.Node(np.array([[1, 1], [1, -1]])) / np.sqrt(2)\n",
    "tn.connect(qubit_in, hadamard[0]) # Equal to qubit ^ hadamard[0]\n",
    "# The \"output edge\" of the operation represents the qubit after\n",
    "#  applying the operation.\n",
    "qubit_out = hadamard[1]\n",
    "# Contraction is how you actually \"apply\" the gate.\n",
    "state2 = state @ hadamard\n",
    "print(state2.tensor) # array([0.707+0.j, 0.707+0.j])"
   ]
  },
  {
   "cell_type": "code",
   "execution_count": 79,
   "metadata": {},
   "outputs": [
    {
     "name": "stdout",
     "output_type": "stream",
     "text": [
      "[[0.70710678+0.j 0.        +0.j]\n",
      " [0.        +0.j 0.70710678+0.j]]\n"
     ]
    }
   ],
   "source": [
    "def apply_gate(qubit_edges, gate, operating_qubits):\n",
    "  op = tn.Node(gate)\n",
    "  for i, bit in enumerate(operating_qubits):\n",
    "    tn.connect(qubit_edges[bit], op[i])\n",
    "    qubit_edges[bit] = op[i + len(operating_qubits)]\n",
    "\n",
    "# These are just numpy arrays of the operators.\n",
    "H = np.array([[1, 1], [1, -1]], dtype=complex) / np.sqrt(2)\n",
    "CNOT = np.zeros((2, 2, 2, 2), dtype=complex)\n",
    "CNOT[0][0][0][0] = 1\n",
    "CNOT[0][1][0][1] = 1\n",
    "CNOT[1][0][1][1] = 1\n",
    "CNOT[1][1][1][0] = 1\n",
    "all_nodes = []\n",
    "# NodeCollection allows us to store all of the nodes created under this context.\n",
    "with tn.NodeCollection(all_nodes):\n",
    "  state_nodes = [\n",
    "      tn.Node(np.array([1.0 + 0.0j, 0.0 + 0.0j],)) for _ in range(2)\n",
    "  ]\n",
    "  qubits = [node[0] for node in state_nodes]\n",
    "  apply_gate(qubits, H, [0])\n",
    "  apply_gate(qubits, CNOT, [0, 1])\n",
    "# We can contract the entire tensornetwork easily with a contractor algorithm\n",
    "result = tn.contractors.optimal(\n",
    "    all_nodes, output_edge_order=qubits)\n",
    "print(result.tensor) # array([0.707+0.j, 0.0+0.j], [0.0+0.j, 0.707+0.j])"
   ]
  },
  {
   "cell_type": "code",
   "execution_count": 73,
   "metadata": {},
   "outputs": [
    {
     "name": "stdout",
     "output_type": "stream",
     "text": [
      "Contracted Node details:\n",
      "Tensor shape: (2,)\n",
      "Edges: []\n",
      "Connections: []\n",
      "Tensor data:\n",
      " [1.+0.j 0.+0.j]\n",
      "\n"
     ]
    }
   ],
   "source": [
    "import numpy as np\n",
    "\n",
    "class Node:\n",
    "    def __init__(self, tensor, edges):\n",
    "        self.tensor = tensor\n",
    "        self.edges = edges\n",
    "        self.connections = []  # List to store connections with other nodes\n",
    "\n",
    "    def contract(self, other, self_axis, other_axis):\n",
    "        result_tensor = np.tensordot(self.tensor, other.tensor, axes=([self_axis], [other_axis]))\n",
    "        new_edges = [edge for i, edge in enumerate(self.edges) if i != self_axis] + \\\n",
    "                    [edge for i, edge in enumerate(other.edges) if i != other_axis]\n",
    "        return Node(result_tensor, new_edges)\n",
    "\n",
    "    def connect(self, other, self_axis, other_axis):\n",
    "        self.connections.append((other, self_axis, other_axis))\n",
    "        other.connections.append((self, other_axis, self_axis))\n",
    "\n",
    "    def print_details(self):\n",
    "        print(\"Tensor shape:\", self.tensor.shape)\n",
    "        print(\"Edges:\", self.edges)\n",
    "        print(\"Connections:\", [(id(node[0]), node[1], node[2]) for node in self.connections])\n",
    "        print(\"Tensor data:\\n\", self.tensor)\n",
    "        print()\n",
    "\n",
    "# Example of usage\n",
    "if __name__ == \"__main__\":\n",
    "    a = np.array([1.0 + 0.0j, 0.0 + 0.0j])\n",
    "    h = np.array([[1, 1], [1, -1]]) / np.sqrt(2)\n",
    "    # B = np.array([[1, 1], [1, -1]]) / np.sqrt(2)\n",
    "\n",
    "    node_A = Node(a, ['n'])\n",
    "    node_B = Node(h, ['n', 'p'])\n",
    "    node_C = Node(h, ['p'])\n",
    "\n",
    "\n",
    "    # Connect Node A and Node B over specified axes without contracting\n",
    "    node_A.connect(node_B, 0, 0)\n",
    "\n",
    "\n",
    "    # Now contract A and B using the connection info\n",
    "    connection_info = node_A.connections[0]\n",
    "    contracted_node = node_A.contract(*connection_info)\n",
    "\n",
    "    contracted_node.connect(node_C, 0, 0)\n",
    "    connection_info = contracted_node.connections[0]\n",
    "    contracted_node2 = contracted_node.contract(*connection_info)\n",
    "\n",
    "    print(\"Contracted Node details:\")\n",
    "    contracted_node2.print_details()\n"
   ]
  },
  {
   "cell_type": "code",
   "execution_count": 70,
   "metadata": {},
   "outputs": [
    {
     "name": "stdout",
     "output_type": "stream",
     "text": [
      "Tensor shape: (2,)\n",
      "Edges: ['p']\n",
      "Connections: [(137361448035040, 1, 0)]\n",
      "Tensor data:\n",
      " [0.70710678+0.j 0.70710678+0.j]\n",
      "\n"
     ]
    }
   ],
   "source": [
    "contracted_node."
   ]
  },
  {
   "cell_type": "code",
   "execution_count": 63,
   "metadata": {},
   "outputs": [
    {
     "name": "stdout",
     "output_type": "stream",
     "text": [
      "Tensor shape: (2,)\n",
      "Edges: ['n', 'p']\n",
      "Connections: []\n",
      "Tensor data:\n",
      " [0.70710678+0.j 0.70710678+0.j]\n",
      "\n",
      "Tensor shape: (2,)\n",
      "Edges: ['m', 'n']\n",
      "Connections: [(137361447929264, 0, 0)]\n",
      "Tensor data:\n",
      " [1.+0.j 0.+0.j]\n",
      "\n",
      "Tensor shape: (2, 2)\n",
      "Edges: ['n', 'p']\n",
      "Connections: [(137361447927920, 0, 0)]\n",
      "Tensor data:\n",
      " [[ 0.70710678  0.70710678]\n",
      " [ 0.70710678 -0.70710678]]\n",
      "\n"
     ]
    }
   ],
   "source": [
    "contracted_node.print_details()\n",
    "node_A.print_details()\n",
    "node_B.print_details()"
   ]
  }
 ],
 "metadata": {
  "kernelspec": {
   "display_name": "graph",
   "language": "python",
   "name": "python3"
  },
  "language_info": {
   "codemirror_mode": {
    "name": "ipython",
    "version": 3
   },
   "file_extension": ".py",
   "mimetype": "text/x-python",
   "name": "python",
   "nbconvert_exporter": "python",
   "pygments_lexer": "ipython3",
   "version": "3.8.13"
  }
 },
 "nbformat": 4,
 "nbformat_minor": 2
}
