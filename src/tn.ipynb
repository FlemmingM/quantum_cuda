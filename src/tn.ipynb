{
 "cells": [
  {
   "cell_type": "code",
   "execution_count": 1,
   "metadata": {},
   "outputs": [],
   "source": [
    "import tensornetwork as tn\n",
    "import numpy as np"
   ]
  },
  {
   "cell_type": "code",
   "execution_count": 25,
   "metadata": {},
   "outputs": [
    {
     "data": {
      "text/plain": [
       "Node\n",
       "(\n",
       "name : '__unnamed_node__',\n",
       "tensor : \n",
       "array([[1.+0.j],\n",
       "       [0.+0.j],\n",
       "       [0.+0.j]]),\n",
       "edges : \n",
       "[\n",
       "Edge(Dangling Edge)[0] \n",
       ", \n",
       "Edge(Dangling Edge)[1] \n",
       "] \n",
       ")"
      ]
     },
     "execution_count": 25,
     "metadata": {},
     "output_type": "execute_result"
    }
   ],
   "source": [
    "tn.Node(np.array([[[1.0 + 0.0j], [0.0 + 0.0j]], [[1.0 + 0.0j], [0.0 + 0.0j]]]))"
   ]
  },
  {
   "cell_type": "code",
   "execution_count": 19,
   "metadata": {},
   "outputs": [
    {
     "name": "stdout",
     "output_type": "stream",
     "text": [
      "[0.70710678+0.j 0.70710678+0.j]\n"
     ]
    }
   ],
   "source": [
    "state = tn.Node(np.array([1.0 + 0.0j, 0.0 + 0.0j]))\n",
    "qubit_in = state[0]\n",
    "\n",
    "# This node represents the Hadamard gate we wish to perform\n",
    "# on this qubit.\n",
    "hadamard = tn.Node(np.array([[1, 1], [1, -1]])) / np.sqrt(2)\n",
    "tn.connect(qubit_in, hadamard[0]) # Equal to qubit ^ hadamard[0]\n",
    "# The \"output edge\" of the operation represents the qubit after\n",
    "#  applying the operation.\n",
    "qubit_out = hadamard[1]\n",
    "# Contraction is how you actually \"apply\" the gate.\n",
    "state2 = state @ hadamard\n",
    "print(state2.tensor) # array([0.707+0.j, 0.707+0.j])"
   ]
  },
  {
   "cell_type": "code",
   "execution_count": 20,
   "metadata": {},
   "outputs": [
    {
     "data": {
      "text/plain": [
       "Node\n",
       "(\n",
       "name : '__unnamed_node__',\n",
       "tensor : \n",
       "array([1.+0.j, 0.+0.j]),\n",
       "edges : \n",
       "[\n",
       "Edge(Dangling Edge)[0] \n",
       "] \n",
       ")"
      ]
     },
     "execution_count": 20,
     "metadata": {},
     "output_type": "execute_result"
    }
   ],
   "source": [
    "state"
   ]
  },
  {
   "cell_type": "code",
   "execution_count": 21,
   "metadata": {},
   "outputs": [
    {
     "data": {
      "text/plain": [
       "Node\n",
       "(\n",
       "name : '__unnamed_node__',\n",
       "tensor : \n",
       "array([0.70710678+0.j, 0.70710678+0.j]),\n",
       "edges : \n",
       "[\n",
       "Edge(Dangling Edge)[0] \n",
       "] \n",
       ")"
      ]
     },
     "execution_count": 21,
     "metadata": {},
     "output_type": "execute_result"
    }
   ],
   "source": [
    "state2"
   ]
  },
  {
   "cell_type": "code",
   "execution_count": 22,
   "metadata": {},
   "outputs": [
    {
     "data": {
      "text/plain": [
       "Node\n",
       "(\n",
       "name : '__unnamed_node__',\n",
       "tensor : \n",
       "array([[ 0.70710678,  0.70710678],\n",
       "       [ 0.70710678, -0.70710678]]),\n",
       "edges : \n",
       "[\n",
       "Edge(Dangling Edge)[0] \n",
       ", \n",
       "Edge(Dangling Edge)[1] \n",
       "] \n",
       ")"
      ]
     },
     "execution_count": 22,
     "metadata": {},
     "output_type": "execute_result"
    }
   ],
   "source": [
    "hadamard"
   ]
  }
 ],
 "metadata": {
  "kernelspec": {
   "display_name": "graph",
   "language": "python",
   "name": "python3"
  },
  "language_info": {
   "codemirror_mode": {
    "name": "ipython",
    "version": 3
   },
   "file_extension": ".py",
   "mimetype": "text/x-python",
   "name": "python",
   "nbconvert_exporter": "python",
   "pygments_lexer": "ipython3",
   "version": "3.8.13"
  }
 },
 "nbformat": 4,
 "nbformat_minor": 2
}
