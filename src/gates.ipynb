{
 "cells": [
  {
   "cell_type": "code",
   "execution_count": 3,
   "metadata": {},
   "outputs": [],
   "source": [
    "import numpy as np\n",
    "from qiskit import Aer, execute\n",
    "from qiskit.circuit import QuantumCircuit\n",
    "from qiskit.visualization import plot_bloch_multivector\n",
    "from qiskit.qasm import pi"
   ]
  },
  {
   "cell_type": "code",
   "execution_count": 106,
   "metadata": {},
   "outputs": [
    {
     "data": {
      "image/png": "[encoded data removed]",
      "text/plain": [
       "<Figure size 519.897x200.667 with 1 Axes>"
      ]
     },
     "execution_count": 106,
     "metadata": {},
     "output_type": "execute_result"
    }
   ],
   "source": [
    "# qc = QuantumCircuit(2, 2)\n",
    "# qc.x(0)\n",
    "# qc.z(1)\n",
    "# qc.save_statevector(label='my_sv')\n",
    "# qc.measure(0, 0)\n",
    "# qc.measure(1, 1)\n",
    "\n",
    "qc.save_statevector(label='my_sv')\n",
    "qc.draw('mpl')\n",
    "qc = QuantumCircuit(1, 1)\n",
    "qc.h(0)\n",
    "qc.h(0)\n",
    "qc.save_statevector(label='my_sv')\n",
    "qc.measure(0, 0)\n",
    "\n",
    "\n",
    "qc.draw('mpl')"
   ]
  },
  {
   "cell_type": "code",
   "execution_count": 109,
   "metadata": {},
   "outputs": [
    {
     "name": "stdout",
     "output_type": "stream",
     "text": [
      "Statevector([1.-6.123234e-17j, 0.+0.000000e+00j],\n",
      "            dims=(2,))\n"
     ]
    }
   ],
   "source": [
    "backend = Aer.get_backend('statevector_simulator')\n",
    "job = execute(qc, backend, shots=1000)\n",
    "\n",
    "# Grab the results from the job.\n",
    "result = job.result()\n",
    "state_vector = result.get_statevector(qc)\n",
    "state_vector"
   ]
  },
  {
   "cell_type": "code",
   "execution_count": 110,
   "metadata": {},
   "outputs": [
    {
     "data": {
      "text/plain": [
       "Result(backend_name='statevector_simulator', backend_version='0.14.0.1', qobj_id='', job_id='d742ac4a-5672-4e3d-9d93-f774b10b3821', success=True, results=[ExperimentResult(shots=1000, success=True, meas_level=2, data=ExperimentResultData(counts={'0x0': 1000}, statevector=Statevector([1.-6.123234e-17j, 0.+0.000000e+00j],\n",
       "            dims=(2,)), my_sv=Statevector([1.-6.123234e-17j, 0.+6.123234e-17j],\n",
       "            dims=(2,))), header=QobjExperimentHeader(creg_sizes=[['c', 1]], global_phase=0.0, memory_slots=1, metadata={}, n_qubits=1, name='circuit-256', qreg_sizes=[['q', 1]]), status=DONE, seed_simulator=2690212618, metadata={'time_taken': 0.008484079, 'num_bind_params': 1, 'parallel_state_update': 1, 'required_memory_mb': 1, 'input_qubit_map': [[0, 0]], 'method': 'statevector', 'device': 'CPU', 'num_qubits': 1, 'active_input_qubits': [0], 'num_clbits': 1, 'remapped_qubits': False, 'parallel_shots': 6, 'runtime_parameter_bind': False, 'max_memory_mb': 15356, 'noise': 'ideal', 'measure_sampling': False, 'batched_shots_optimization': False, 'result_types': {'statevector': 'save_statevector', 'my_sv': 'save_statevector'}, 'result_subtypes': {'statevector': 'single', 'my_sv': 'single'}, 'fusion': {'applied': False, 'max_fused_qubits': 5, 'threshold': 14, 'enabled': True}}, time_taken=0.008484079)], date=2024-04-24T18:42:36.125213, status=COMPLETED, header=None, metadata={'time_taken_parameter_binding': 1.1593e-05, 'time_taken_execute': 0.00852312, 'omp_enabled': True, 'max_gpu_memory_mb': 0, 'max_memory_mb': 15356, 'parallel_experiments': 1}, time_taken=0.009116172790527344)"
      ]
     },
     "execution_count": 110,
     "metadata": {},
     "output_type": "execute_result"
    }
   ],
   "source": [
    "result"
   ]
  }
 ],
 "metadata": {
  "kernelspec": {
   "display_name": "graph",
   "language": "python",
   "name": "python3"
  },
  "language_info": {
   "codemirror_mode": {
    "name": "ipython",
    "version": 3
   },
   "file_extension": ".py",
   "mimetype": "text/x-python",
   "name": "python",
   "nbconvert_exporter": "python",
   "pygments_lexer": "ipython3",
   "version": "3.8.13"
  }
 },
 "nbformat": 4,
 "nbformat_minor": 2
}
